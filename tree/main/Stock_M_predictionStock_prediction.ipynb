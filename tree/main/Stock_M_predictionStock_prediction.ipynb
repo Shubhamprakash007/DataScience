{
  "nbformat": 4,
  "nbformat_minor": 0,
  "metadata": {
    "colab": {
      "provenance": [],
      "authorship_tag": "ABX9TyMynOBsBUVGfwvp4a+2dPsj",
      "include_colab_link": true
    },
    "kernelspec": {
      "name": "python3",
      "display_name": "Python 3"
    },
    "language_info": {
      "name": "python"
    }
  },
  "cells": [
    {
      "cell_type": "markdown",
      "metadata": {
        "id": "view-in-github",
        "colab_type": "text"
      },
      "source": [
        "<a href=\"https://colab.research.google.com/github/Shubhamprakash007/LGMVIP--DataScience/blob/main/tree/main/Stock_M_predictionStock_prediction.ipynb\" target=\"_parent\"><img src=\"https://colab.research.google.com/assets/colab-badge.svg\" alt=\"Open In Colab\"/></a>"
      ]
    },
    {
      "cell_type": "code",
      "source": [
        "import tensorflow as tf\n",
        "import pandas as pd\n",
        "import numpy as np"
      ],
      "metadata": {
        "id": "XZac6WD4xpwj"
      },
      "execution_count": 113,
      "outputs": []
    },
    {
      "cell_type": "code",
      "source": [
        "from tensorflow.keras.models import Sequential\n",
        "from tensorflow.keras.layers import LSTM"
      ],
      "metadata": {
        "id": "Zw6QttbSx4sn"
      },
      "execution_count": 114,
      "outputs": []
    },
    {
      "cell_type": "code",
      "source": [
        "df = pd.read_csv(\"NSE-TATAGLOBAL.csv\")"
      ],
      "metadata": {
        "id": "1wr5gNRTzCQD"
      },
      "execution_count": 115,
      "outputs": []
    },
    {
      "cell_type": "code",
      "source": [
        "df.head()"
      ],
      "metadata": {
        "colab": {
          "base_uri": "https://localhost:8080/",
          "height": 206
        },
        "id": "hy2XJbWo0zKS",
        "outputId": "1dfffc9a-71b2-4630-9bee-780176252652"
      },
      "execution_count": 116,
      "outputs": [
        {
          "output_type": "execute_result",
          "data": {
            "text/plain": [
              "         Date    Open    High     Low    Last   Close  Total Trade Quantity  \\\n",
              "0  2018-09-28  234.05  235.95  230.20  233.50  233.75               3069914   \n",
              "1  2018-09-27  234.55  236.80  231.10  233.80  233.25               5082859   \n",
              "2  2018-09-26  240.00  240.00  232.50  235.00  234.25               2240909   \n",
              "3  2018-09-25  233.30  236.75  232.00  236.25  236.10               2349368   \n",
              "4  2018-09-24  233.55  239.20  230.75  234.00  233.30               3423509   \n",
              "\n",
              "   Turnover (Lacs)  \n",
              "0          7162.35  \n",
              "1         11859.95  \n",
              "2          5248.60  \n",
              "3          5503.90  \n",
              "4          7999.55  "
            ],
            "text/html": [
              "\n",
              "  <div id=\"df-faf0e489-04ed-4f27-af04-519a7400341a\">\n",
              "    <div class=\"colab-df-container\">\n",
              "      <div>\n",
              "<style scoped>\n",
              "    .dataframe tbody tr th:only-of-type {\n",
              "        vertical-align: middle;\n",
              "    }\n",
              "\n",
              "    .dataframe tbody tr th {\n",
              "        vertical-align: top;\n",
              "    }\n",
              "\n",
              "    .dataframe thead th {\n",
              "        text-align: right;\n",
              "    }\n",
              "</style>\n",
              "<table border=\"1\" class=\"dataframe\">\n",
              "  <thead>\n",
              "    <tr style=\"text-align: right;\">\n",
              "      <th></th>\n",
              "      <th>Date</th>\n",
              "      <th>Open</th>\n",
              "      <th>High</th>\n",
              "      <th>Low</th>\n",
              "      <th>Last</th>\n",
              "      <th>Close</th>\n",
              "      <th>Total Trade Quantity</th>\n",
              "      <th>Turnover (Lacs)</th>\n",
              "    </tr>\n",
              "  </thead>\n",
              "  <tbody>\n",
              "    <tr>\n",
              "      <th>0</th>\n",
              "      <td>2018-09-28</td>\n",
              "      <td>234.05</td>\n",
              "      <td>235.95</td>\n",
              "      <td>230.20</td>\n",
              "      <td>233.50</td>\n",
              "      <td>233.75</td>\n",
              "      <td>3069914</td>\n",
              "      <td>7162.35</td>\n",
              "    </tr>\n",
              "    <tr>\n",
              "      <th>1</th>\n",
              "      <td>2018-09-27</td>\n",
              "      <td>234.55</td>\n",
              "      <td>236.80</td>\n",
              "      <td>231.10</td>\n",
              "      <td>233.80</td>\n",
              "      <td>233.25</td>\n",
              "      <td>5082859</td>\n",
              "      <td>11859.95</td>\n",
              "    </tr>\n",
              "    <tr>\n",
              "      <th>2</th>\n",
              "      <td>2018-09-26</td>\n",
              "      <td>240.00</td>\n",
              "      <td>240.00</td>\n",
              "      <td>232.50</td>\n",
              "      <td>235.00</td>\n",
              "      <td>234.25</td>\n",
              "      <td>2240909</td>\n",
              "      <td>5248.60</td>\n",
              "    </tr>\n",
              "    <tr>\n",
              "      <th>3</th>\n",
              "      <td>2018-09-25</td>\n",
              "      <td>233.30</td>\n",
              "      <td>236.75</td>\n",
              "      <td>232.00</td>\n",
              "      <td>236.25</td>\n",
              "      <td>236.10</td>\n",
              "      <td>2349368</td>\n",
              "      <td>5503.90</td>\n",
              "    </tr>\n",
              "    <tr>\n",
              "      <th>4</th>\n",
              "      <td>2018-09-24</td>\n",
              "      <td>233.55</td>\n",
              "      <td>239.20</td>\n",
              "      <td>230.75</td>\n",
              "      <td>234.00</td>\n",
              "      <td>233.30</td>\n",
              "      <td>3423509</td>\n",
              "      <td>7999.55</td>\n",
              "    </tr>\n",
              "  </tbody>\n",
              "</table>\n",
              "</div>\n",
              "      <button class=\"colab-df-convert\" onclick=\"convertToInteractive('df-faf0e489-04ed-4f27-af04-519a7400341a')\"\n",
              "              title=\"Convert this dataframe to an interactive table.\"\n",
              "              style=\"display:none;\">\n",
              "        \n",
              "  <svg xmlns=\"http://www.w3.org/2000/svg\" height=\"24px\"viewBox=\"0 0 24 24\"\n",
              "       width=\"24px\">\n",
              "    <path d=\"M0 0h24v24H0V0z\" fill=\"none\"/>\n",
              "    <path d=\"M18.56 5.44l.94 2.06.94-2.06 2.06-.94-2.06-.94-.94-2.06-.94 2.06-2.06.94zm-11 1L8.5 8.5l.94-2.06 2.06-.94-2.06-.94L8.5 2.5l-.94 2.06-2.06.94zm10 10l.94 2.06.94-2.06 2.06-.94-2.06-.94-.94-2.06-.94 2.06-2.06.94z\"/><path d=\"M17.41 7.96l-1.37-1.37c-.4-.4-.92-.59-1.43-.59-.52 0-1.04.2-1.43.59L10.3 9.45l-7.72 7.72c-.78.78-.78 2.05 0 2.83L4 21.41c.39.39.9.59 1.41.59.51 0 1.02-.2 1.41-.59l7.78-7.78 2.81-2.81c.8-.78.8-2.07 0-2.86zM5.41 20L4 18.59l7.72-7.72 1.47 1.35L5.41 20z\"/>\n",
              "  </svg>\n",
              "      </button>\n",
              "      \n",
              "  <style>\n",
              "    .colab-df-container {\n",
              "      display:flex;\n",
              "      flex-wrap:wrap;\n",
              "      gap: 12px;\n",
              "    }\n",
              "\n",
              "    .colab-df-convert {\n",
              "      background-color: #E8F0FE;\n",
              "      border: none;\n",
              "      border-radius: 50%;\n",
              "      cursor: pointer;\n",
              "      display: none;\n",
              "      fill: #1967D2;\n",
              "      height: 32px;\n",
              "      padding: 0 0 0 0;\n",
              "      width: 32px;\n",
              "    }\n",
              "\n",
              "    .colab-df-convert:hover {\n",
              "      background-color: #E2EBFA;\n",
              "      box-shadow: 0px 1px 2px rgba(60, 64, 67, 0.3), 0px 1px 3px 1px rgba(60, 64, 67, 0.15);\n",
              "      fill: #174EA6;\n",
              "    }\n",
              "\n",
              "    [theme=dark] .colab-df-convert {\n",
              "      background-color: #3B4455;\n",
              "      fill: #D2E3FC;\n",
              "    }\n",
              "\n",
              "    [theme=dark] .colab-df-convert:hover {\n",
              "      background-color: #434B5C;\n",
              "      box-shadow: 0px 1px 3px 1px rgba(0, 0, 0, 0.15);\n",
              "      filter: drop-shadow(0px 1px 2px rgba(0, 0, 0, 0.3));\n",
              "      fill: #FFFFFF;\n",
              "    }\n",
              "  </style>\n",
              "\n",
              "      <script>\n",
              "        const buttonEl =\n",
              "          document.querySelector('#df-faf0e489-04ed-4f27-af04-519a7400341a button.colab-df-convert');\n",
              "        buttonEl.style.display =\n",
              "          google.colab.kernel.accessAllowed ? 'block' : 'none';\n",
              "\n",
              "        async function convertToInteractive(key) {\n",
              "          const element = document.querySelector('#df-faf0e489-04ed-4f27-af04-519a7400341a');\n",
              "          const dataTable =\n",
              "            await google.colab.kernel.invokeFunction('convertToInteractive',\n",
              "                                                     [key], {});\n",
              "          if (!dataTable) return;\n",
              "\n",
              "          const docLinkHtml = 'Like what you see? Visit the ' +\n",
              "            '<a target=\"_blank\" href=https://colab.research.google.com/notebooks/data_table.ipynb>data table notebook</a>'\n",
              "            + ' to learn more about interactive tables.';\n",
              "          element.innerHTML = '';\n",
              "          dataTable['output_type'] = 'display_data';\n",
              "          await google.colab.output.renderOutput(dataTable, element);\n",
              "          const docLink = document.createElement('div');\n",
              "          docLink.innerHTML = docLinkHtml;\n",
              "          element.appendChild(docLink);\n",
              "        }\n",
              "      </script>\n",
              "    </div>\n",
              "  </div>\n",
              "  "
            ]
          },
          "metadata": {},
          "execution_count": 116
        }
      ]
    },
    {
      "cell_type": "code",
      "source": [
        "df.tail()"
      ],
      "metadata": {
        "colab": {
          "base_uri": "https://localhost:8080/",
          "height": 206
        },
        "id": "5cXeYJdq5K2a",
        "outputId": "32d2662c-282d-4868-8404-17fc4f8f4869"
      },
      "execution_count": 117,
      "outputs": [
        {
          "output_type": "execute_result",
          "data": {
            "text/plain": [
              "            Date   Open    High     Low    Last   Close  Total Trade Quantity  \\\n",
              "2030  2010-07-27  117.6  119.50  112.00  118.80  118.65                586100   \n",
              "2031  2010-07-26  120.1  121.00  117.10  117.10  117.60                658440   \n",
              "2032  2010-07-23  121.8  121.95  120.25  120.35  120.65                281312   \n",
              "2033  2010-07-22  120.3  122.00  120.25  120.75  120.90                293312   \n",
              "2034  2010-07-21  122.1  123.00  121.05  121.10  121.55                658666   \n",
              "\n",
              "      Turnover (Lacs)  \n",
              "2030           694.98  \n",
              "2031           780.01  \n",
              "2032           340.31  \n",
              "2033           355.17  \n",
              "2034           803.56  "
            ],
            "text/html": [
              "\n",
              "  <div id=\"df-caca86a3-c9b6-4241-92bc-0ecd2b692459\">\n",
              "    <div class=\"colab-df-container\">\n",
              "      <div>\n",
              "<style scoped>\n",
              "    .dataframe tbody tr th:only-of-type {\n",
              "        vertical-align: middle;\n",
              "    }\n",
              "\n",
              "    .dataframe tbody tr th {\n",
              "        vertical-align: top;\n",
              "    }\n",
              "\n",
              "    .dataframe thead th {\n",
              "        text-align: right;\n",
              "    }\n",
              "</style>\n",
              "<table border=\"1\" class=\"dataframe\">\n",
              "  <thead>\n",
              "    <tr style=\"text-align: right;\">\n",
              "      <th></th>\n",
              "      <th>Date</th>\n",
              "      <th>Open</th>\n",
              "      <th>High</th>\n",
              "      <th>Low</th>\n",
              "      <th>Last</th>\n",
              "      <th>Close</th>\n",
              "      <th>Total Trade Quantity</th>\n",
              "      <th>Turnover (Lacs)</th>\n",
              "    </tr>\n",
              "  </thead>\n",
              "  <tbody>\n",
              "    <tr>\n",
              "      <th>2030</th>\n",
              "      <td>2010-07-27</td>\n",
              "      <td>117.6</td>\n",
              "      <td>119.50</td>\n",
              "      <td>112.00</td>\n",
              "      <td>118.80</td>\n",
              "      <td>118.65</td>\n",
              "      <td>586100</td>\n",
              "      <td>694.98</td>\n",
              "    </tr>\n",
              "    <tr>\n",
              "      <th>2031</th>\n",
              "      <td>2010-07-26</td>\n",
              "      <td>120.1</td>\n",
              "      <td>121.00</td>\n",
              "      <td>117.10</td>\n",
              "      <td>117.10</td>\n",
              "      <td>117.60</td>\n",
              "      <td>658440</td>\n",
              "      <td>780.01</td>\n",
              "    </tr>\n",
              "    <tr>\n",
              "      <th>2032</th>\n",
              "      <td>2010-07-23</td>\n",
              "      <td>121.8</td>\n",
              "      <td>121.95</td>\n",
              "      <td>120.25</td>\n",
              "      <td>120.35</td>\n",
              "      <td>120.65</td>\n",
              "      <td>281312</td>\n",
              "      <td>340.31</td>\n",
              "    </tr>\n",
              "    <tr>\n",
              "      <th>2033</th>\n",
              "      <td>2010-07-22</td>\n",
              "      <td>120.3</td>\n",
              "      <td>122.00</td>\n",
              "      <td>120.25</td>\n",
              "      <td>120.75</td>\n",
              "      <td>120.90</td>\n",
              "      <td>293312</td>\n",
              "      <td>355.17</td>\n",
              "    </tr>\n",
              "    <tr>\n",
              "      <th>2034</th>\n",
              "      <td>2010-07-21</td>\n",
              "      <td>122.1</td>\n",
              "      <td>123.00</td>\n",
              "      <td>121.05</td>\n",
              "      <td>121.10</td>\n",
              "      <td>121.55</td>\n",
              "      <td>658666</td>\n",
              "      <td>803.56</td>\n",
              "    </tr>\n",
              "  </tbody>\n",
              "</table>\n",
              "</div>\n",
              "      <button class=\"colab-df-convert\" onclick=\"convertToInteractive('df-caca86a3-c9b6-4241-92bc-0ecd2b692459')\"\n",
              "              title=\"Convert this dataframe to an interactive table.\"\n",
              "              style=\"display:none;\">\n",
              "        \n",
              "  <svg xmlns=\"http://www.w3.org/2000/svg\" height=\"24px\"viewBox=\"0 0 24 24\"\n",
              "       width=\"24px\">\n",
              "    <path d=\"M0 0h24v24H0V0z\" fill=\"none\"/>\n",
              "    <path d=\"M18.56 5.44l.94 2.06.94-2.06 2.06-.94-2.06-.94-.94-2.06-.94 2.06-2.06.94zm-11 1L8.5 8.5l.94-2.06 2.06-.94-2.06-.94L8.5 2.5l-.94 2.06-2.06.94zm10 10l.94 2.06.94-2.06 2.06-.94-2.06-.94-.94-2.06-.94 2.06-2.06.94z\"/><path d=\"M17.41 7.96l-1.37-1.37c-.4-.4-.92-.59-1.43-.59-.52 0-1.04.2-1.43.59L10.3 9.45l-7.72 7.72c-.78.78-.78 2.05 0 2.83L4 21.41c.39.39.9.59 1.41.59.51 0 1.02-.2 1.41-.59l7.78-7.78 2.81-2.81c.8-.78.8-2.07 0-2.86zM5.41 20L4 18.59l7.72-7.72 1.47 1.35L5.41 20z\"/>\n",
              "  </svg>\n",
              "      </button>\n",
              "      \n",
              "  <style>\n",
              "    .colab-df-container {\n",
              "      display:flex;\n",
              "      flex-wrap:wrap;\n",
              "      gap: 12px;\n",
              "    }\n",
              "\n",
              "    .colab-df-convert {\n",
              "      background-color: #E8F0FE;\n",
              "      border: none;\n",
              "      border-radius: 50%;\n",
              "      cursor: pointer;\n",
              "      display: none;\n",
              "      fill: #1967D2;\n",
              "      height: 32px;\n",
              "      padding: 0 0 0 0;\n",
              "      width: 32px;\n",
              "    }\n",
              "\n",
              "    .colab-df-convert:hover {\n",
              "      background-color: #E2EBFA;\n",
              "      box-shadow: 0px 1px 2px rgba(60, 64, 67, 0.3), 0px 1px 3px 1px rgba(60, 64, 67, 0.15);\n",
              "      fill: #174EA6;\n",
              "    }\n",
              "\n",
              "    [theme=dark] .colab-df-convert {\n",
              "      background-color: #3B4455;\n",
              "      fill: #D2E3FC;\n",
              "    }\n",
              "\n",
              "    [theme=dark] .colab-df-convert:hover {\n",
              "      background-color: #434B5C;\n",
              "      box-shadow: 0px 1px 3px 1px rgba(0, 0, 0, 0.15);\n",
              "      filter: drop-shadow(0px 1px 2px rgba(0, 0, 0, 0.3));\n",
              "      fill: #FFFFFF;\n",
              "    }\n",
              "  </style>\n",
              "\n",
              "      <script>\n",
              "        const buttonEl =\n",
              "          document.querySelector('#df-caca86a3-c9b6-4241-92bc-0ecd2b692459 button.colab-df-convert');\n",
              "        buttonEl.style.display =\n",
              "          google.colab.kernel.accessAllowed ? 'block' : 'none';\n",
              "\n",
              "        async function convertToInteractive(key) {\n",
              "          const element = document.querySelector('#df-caca86a3-c9b6-4241-92bc-0ecd2b692459');\n",
              "          const dataTable =\n",
              "            await google.colab.kernel.invokeFunction('convertToInteractive',\n",
              "                                                     [key], {});\n",
              "          if (!dataTable) return;\n",
              "\n",
              "          const docLinkHtml = 'Like what you see? Visit the ' +\n",
              "            '<a target=\"_blank\" href=https://colab.research.google.com/notebooks/data_table.ipynb>data table notebook</a>'\n",
              "            + ' to learn more about interactive tables.';\n",
              "          element.innerHTML = '';\n",
              "          dataTable['output_type'] = 'display_data';\n",
              "          await google.colab.output.renderOutput(dataTable, element);\n",
              "          const docLink = document.createElement('div');\n",
              "          docLink.innerHTML = docLinkHtml;\n",
              "          element.appendChild(docLink);\n",
              "        }\n",
              "      </script>\n",
              "    </div>\n",
              "  </div>\n",
              "  "
            ]
          },
          "metadata": {},
          "execution_count": 117
        }
      ]
    },
    {
      "cell_type": "code",
      "source": [
        "df=df.iloc[::-1]"
      ],
      "metadata": {
        "id": "AUzvskfw5bsQ"
      },
      "execution_count": 118,
      "outputs": []
    },
    {
      "cell_type": "code",
      "source": [
        "df.shape"
      ],
      "metadata": {
        "colab": {
          "base_uri": "https://localhost:8080/"
        },
        "id": "VFT6BU8Q1Flt",
        "outputId": "05af3471-2333-4f00-ddf7-e18fa264bf9c"
      },
      "execution_count": 119,
      "outputs": [
        {
          "output_type": "execute_result",
          "data": {
            "text/plain": [
              "(2035, 8)"
            ]
          },
          "metadata": {},
          "execution_count": 119
        }
      ]
    },
    {
      "cell_type": "code",
      "source": [
        "df.describe()"
      ],
      "metadata": {
        "colab": {
          "base_uri": "https://localhost:8080/",
          "height": 300
        },
        "id": "VeFrIAQn1L3S",
        "outputId": "b96c4607-2588-4986-ee01-257495394b48"
      },
      "execution_count": 120,
      "outputs": [
        {
          "output_type": "execute_result",
          "data": {
            "text/plain": [
              "              Open         High          Low         Last       Close  \\\n",
              "count  2035.000000  2035.000000  2035.000000  2035.000000  2035.00000   \n",
              "mean    149.713735   151.992826   147.293931   149.474251   149.45027   \n",
              "std      48.664509    49.413109    47.931958    48.732570    48.71204   \n",
              "min      81.100000    82.800000    80.000000    81.000000    80.95000   \n",
              "25%     120.025000   122.100000   118.300000   120.075000   120.05000   \n",
              "50%     141.500000   143.400000   139.600000   141.100000   141.25000   \n",
              "75%     157.175000   159.400000   155.150000   156.925000   156.90000   \n",
              "max     327.700000   328.750000   321.650000   325.950000   325.75000   \n",
              "\n",
              "       Total Trade Quantity  Turnover (Lacs)  \n",
              "count          2.035000e+03      2035.000000  \n",
              "mean           2.335681e+06      3899.980565  \n",
              "std            2.091778e+06      4570.767877  \n",
              "min            3.961000e+04        37.040000  \n",
              "25%            1.146444e+06      1427.460000  \n",
              "50%            1.783456e+06      2512.030000  \n",
              "75%            2.813594e+06      4539.015000  \n",
              "max            2.919102e+07     55755.080000  "
            ],
            "text/html": [
              "\n",
              "  <div id=\"df-28396f5b-eeb3-4055-b5bb-59bc29d24b37\">\n",
              "    <div class=\"colab-df-container\">\n",
              "      <div>\n",
              "<style scoped>\n",
              "    .dataframe tbody tr th:only-of-type {\n",
              "        vertical-align: middle;\n",
              "    }\n",
              "\n",
              "    .dataframe tbody tr th {\n",
              "        vertical-align: top;\n",
              "    }\n",
              "\n",
              "    .dataframe thead th {\n",
              "        text-align: right;\n",
              "    }\n",
              "</style>\n",
              "<table border=\"1\" class=\"dataframe\">\n",
              "  <thead>\n",
              "    <tr style=\"text-align: right;\">\n",
              "      <th></th>\n",
              "      <th>Open</th>\n",
              "      <th>High</th>\n",
              "      <th>Low</th>\n",
              "      <th>Last</th>\n",
              "      <th>Close</th>\n",
              "      <th>Total Trade Quantity</th>\n",
              "      <th>Turnover (Lacs)</th>\n",
              "    </tr>\n",
              "  </thead>\n",
              "  <tbody>\n",
              "    <tr>\n",
              "      <th>count</th>\n",
              "      <td>2035.000000</td>\n",
              "      <td>2035.000000</td>\n",
              "      <td>2035.000000</td>\n",
              "      <td>2035.000000</td>\n",
              "      <td>2035.00000</td>\n",
              "      <td>2.035000e+03</td>\n",
              "      <td>2035.000000</td>\n",
              "    </tr>\n",
              "    <tr>\n",
              "      <th>mean</th>\n",
              "      <td>149.713735</td>\n",
              "      <td>151.992826</td>\n",
              "      <td>147.293931</td>\n",
              "      <td>149.474251</td>\n",
              "      <td>149.45027</td>\n",
              "      <td>2.335681e+06</td>\n",
              "      <td>3899.980565</td>\n",
              "    </tr>\n",
              "    <tr>\n",
              "      <th>std</th>\n",
              "      <td>48.664509</td>\n",
              "      <td>49.413109</td>\n",
              "      <td>47.931958</td>\n",
              "      <td>48.732570</td>\n",
              "      <td>48.71204</td>\n",
              "      <td>2.091778e+06</td>\n",
              "      <td>4570.767877</td>\n",
              "    </tr>\n",
              "    <tr>\n",
              "      <th>min</th>\n",
              "      <td>81.100000</td>\n",
              "      <td>82.800000</td>\n",
              "      <td>80.000000</td>\n",
              "      <td>81.000000</td>\n",
              "      <td>80.95000</td>\n",
              "      <td>3.961000e+04</td>\n",
              "      <td>37.040000</td>\n",
              "    </tr>\n",
              "    <tr>\n",
              "      <th>25%</th>\n",
              "      <td>120.025000</td>\n",
              "      <td>122.100000</td>\n",
              "      <td>118.300000</td>\n",
              "      <td>120.075000</td>\n",
              "      <td>120.05000</td>\n",
              "      <td>1.146444e+06</td>\n",
              "      <td>1427.460000</td>\n",
              "    </tr>\n",
              "    <tr>\n",
              "      <th>50%</th>\n",
              "      <td>141.500000</td>\n",
              "      <td>143.400000</td>\n",
              "      <td>139.600000</td>\n",
              "      <td>141.100000</td>\n",
              "      <td>141.25000</td>\n",
              "      <td>1.783456e+06</td>\n",
              "      <td>2512.030000</td>\n",
              "    </tr>\n",
              "    <tr>\n",
              "      <th>75%</th>\n",
              "      <td>157.175000</td>\n",
              "      <td>159.400000</td>\n",
              "      <td>155.150000</td>\n",
              "      <td>156.925000</td>\n",
              "      <td>156.90000</td>\n",
              "      <td>2.813594e+06</td>\n",
              "      <td>4539.015000</td>\n",
              "    </tr>\n",
              "    <tr>\n",
              "      <th>max</th>\n",
              "      <td>327.700000</td>\n",
              "      <td>328.750000</td>\n",
              "      <td>321.650000</td>\n",
              "      <td>325.950000</td>\n",
              "      <td>325.75000</td>\n",
              "      <td>2.919102e+07</td>\n",
              "      <td>55755.080000</td>\n",
              "    </tr>\n",
              "  </tbody>\n",
              "</table>\n",
              "</div>\n",
              "      <button class=\"colab-df-convert\" onclick=\"convertToInteractive('df-28396f5b-eeb3-4055-b5bb-59bc29d24b37')\"\n",
              "              title=\"Convert this dataframe to an interactive table.\"\n",
              "              style=\"display:none;\">\n",
              "        \n",
              "  <svg xmlns=\"http://www.w3.org/2000/svg\" height=\"24px\"viewBox=\"0 0 24 24\"\n",
              "       width=\"24px\">\n",
              "    <path d=\"M0 0h24v24H0V0z\" fill=\"none\"/>\n",
              "    <path d=\"M18.56 5.44l.94 2.06.94-2.06 2.06-.94-2.06-.94-.94-2.06-.94 2.06-2.06.94zm-11 1L8.5 8.5l.94-2.06 2.06-.94-2.06-.94L8.5 2.5l-.94 2.06-2.06.94zm10 10l.94 2.06.94-2.06 2.06-.94-2.06-.94-.94-2.06-.94 2.06-2.06.94z\"/><path d=\"M17.41 7.96l-1.37-1.37c-.4-.4-.92-.59-1.43-.59-.52 0-1.04.2-1.43.59L10.3 9.45l-7.72 7.72c-.78.78-.78 2.05 0 2.83L4 21.41c.39.39.9.59 1.41.59.51 0 1.02-.2 1.41-.59l7.78-7.78 2.81-2.81c.8-.78.8-2.07 0-2.86zM5.41 20L4 18.59l7.72-7.72 1.47 1.35L5.41 20z\"/>\n",
              "  </svg>\n",
              "      </button>\n",
              "      \n",
              "  <style>\n",
              "    .colab-df-container {\n",
              "      display:flex;\n",
              "      flex-wrap:wrap;\n",
              "      gap: 12px;\n",
              "    }\n",
              "\n",
              "    .colab-df-convert {\n",
              "      background-color: #E8F0FE;\n",
              "      border: none;\n",
              "      border-radius: 50%;\n",
              "      cursor: pointer;\n",
              "      display: none;\n",
              "      fill: #1967D2;\n",
              "      height: 32px;\n",
              "      padding: 0 0 0 0;\n",
              "      width: 32px;\n",
              "    }\n",
              "\n",
              "    .colab-df-convert:hover {\n",
              "      background-color: #E2EBFA;\n",
              "      box-shadow: 0px 1px 2px rgba(60, 64, 67, 0.3), 0px 1px 3px 1px rgba(60, 64, 67, 0.15);\n",
              "      fill: #174EA6;\n",
              "    }\n",
              "\n",
              "    [theme=dark] .colab-df-convert {\n",
              "      background-color: #3B4455;\n",
              "      fill: #D2E3FC;\n",
              "    }\n",
              "\n",
              "    [theme=dark] .colab-df-convert:hover {\n",
              "      background-color: #434B5C;\n",
              "      box-shadow: 0px 1px 3px 1px rgba(0, 0, 0, 0.15);\n",
              "      filter: drop-shadow(0px 1px 2px rgba(0, 0, 0, 0.3));\n",
              "      fill: #FFFFFF;\n",
              "    }\n",
              "  </style>\n",
              "\n",
              "      <script>\n",
              "        const buttonEl =\n",
              "          document.querySelector('#df-28396f5b-eeb3-4055-b5bb-59bc29d24b37 button.colab-df-convert');\n",
              "        buttonEl.style.display =\n",
              "          google.colab.kernel.accessAllowed ? 'block' : 'none';\n",
              "\n",
              "        async function convertToInteractive(key) {\n",
              "          const element = document.querySelector('#df-28396f5b-eeb3-4055-b5bb-59bc29d24b37');\n",
              "          const dataTable =\n",
              "            await google.colab.kernel.invokeFunction('convertToInteractive',\n",
              "                                                     [key], {});\n",
              "          if (!dataTable) return;\n",
              "\n",
              "          const docLinkHtml = 'Like what you see? Visit the ' +\n",
              "            '<a target=\"_blank\" href=https://colab.research.google.com/notebooks/data_table.ipynb>data table notebook</a>'\n",
              "            + ' to learn more about interactive tables.';\n",
              "          element.innerHTML = '';\n",
              "          dataTable['output_type'] = 'display_data';\n",
              "          await google.colab.output.renderOutput(dataTable, element);\n",
              "          const docLink = document.createElement('div');\n",
              "          docLink.innerHTML = docLinkHtml;\n",
              "          element.appendChild(docLink);\n",
              "        }\n",
              "      </script>\n",
              "    </div>\n",
              "  </div>\n",
              "  "
            ]
          },
          "metadata": {},
          "execution_count": 120
        }
      ]
    },
    {
      "cell_type": "code",
      "source": [
        "df.info()"
      ],
      "metadata": {
        "colab": {
          "base_uri": "https://localhost:8080/"
        },
        "id": "DxgOuJ8PCBhp",
        "outputId": "e14c9ff5-3f41-469c-fea3-a4f1156178d9"
      },
      "execution_count": 121,
      "outputs": [
        {
          "output_type": "stream",
          "name": "stdout",
          "text": [
            "<class 'pandas.core.frame.DataFrame'>\n",
            "RangeIndex: 2035 entries, 2034 to 0\n",
            "Data columns (total 8 columns):\n",
            " #   Column                Non-Null Count  Dtype  \n",
            "---  ------                --------------  -----  \n",
            " 0   Date                  2035 non-null   object \n",
            " 1   Open                  2035 non-null   float64\n",
            " 2   High                  2035 non-null   float64\n",
            " 3   Low                   2035 non-null   float64\n",
            " 4   Last                  2035 non-null   float64\n",
            " 5   Close                 2035 non-null   float64\n",
            " 6   Total Trade Quantity  2035 non-null   int64  \n",
            " 7   Turnover (Lacs)       2035 non-null   float64\n",
            "dtypes: float64(6), int64(1), object(1)\n",
            "memory usage: 127.3+ KB\n"
          ]
        }
      ]
    },
    {
      "cell_type": "code",
      "source": [
        "df1 = df.reset_index()['Close']"
      ],
      "metadata": {
        "id": "Ja085dxB1OXy"
      },
      "execution_count": 122,
      "outputs": []
    },
    {
      "cell_type": "code",
      "source": [
        "import matplotlib.pyplot as plt"
      ],
      "metadata": {
        "id": "QAuUBaRc2r-o"
      },
      "execution_count": 123,
      "outputs": []
    },
    {
      "cell_type": "code",
      "source": [
        "plt.plot(df1)"
      ],
      "metadata": {
        "colab": {
          "base_uri": "https://localhost:8080/",
          "height": 282
        },
        "id": "8nur993Y20YP",
        "outputId": "fdd15464-8e15-48fc-e2d8-5e41dd7a436b"
      },
      "execution_count": 124,
      "outputs": [
        {
          "output_type": "execute_result",
          "data": {
            "text/plain": [
              "[<matplotlib.lines.Line2D at 0x7f7c1803a990>]"
            ]
          },
          "metadata": {},
          "execution_count": 124
        },
        {
          "output_type": "display_data",
          "data": {
            "text/plain": [
              "<Figure size 432x288 with 1 Axes>"
            ],
            "image/png": "[encoded data removed]"
          },
          "metadata": {
            "needs_background": "light"
          }
        }
      ]
    },
    {
      "cell_type": "code",
      "source": [
        "from sklearn.preprocessing import MinMaxScaler\n",
        "scaler = MinMaxScaler(feature_range=(0,1))\n",
        "df1 = scaler.fit_transform(np.array(df1).reshape(-1,1))"
      ],
      "metadata": {
        "id": "U-YaIeqo24hq"
      },
      "execution_count": 125,
      "outputs": []
    },
    {
      "cell_type": "code",
      "source": [
        "print(df1)"
      ],
      "metadata": {
        "colab": {
          "base_uri": "https://localhost:8080/"
        },
        "id": "K6PX6GsE3enP",
        "outputId": "62efc674-74c4-4db4-bbc6-13b0882af30d"
      },
      "execution_count": 126,
      "outputs": [
        {
          "output_type": "stream",
          "name": "stdout",
          "text": [
            "[[0.16584967]\n",
            " [0.16319444]\n",
            " [0.1621732 ]\n",
            " ...\n",
            " [0.62622549]\n",
            " [0.62214052]\n",
            " [0.62418301]]\n"
          ]
        }
      ]
    },
    {
      "cell_type": "code",
      "source": [
        "training_data = int(len(df1)*0.65)\n",
        "train_data, test_data = df1[0:training_data,:], df1[training_data:len(df1),:1]"
      ],
      "metadata": {
        "id": "u01pUfKV3h-n"
      },
      "execution_count": 127,
      "outputs": []
    },
    {
      "cell_type": "code",
      "source": [
        "print(len(train_data))\n",
        "print(len(test_data))"
      ],
      "metadata": {
        "colab": {
          "base_uri": "https://localhost:8080/"
        },
        "id": "GBNwRunlBH1D",
        "outputId": "c2e933cc-e130-4359-d425-ae9c8b15185b"
      },
      "execution_count": 128,
      "outputs": [
        {
          "output_type": "stream",
          "name": "stdout",
          "text": [
            "1322\n",
            "713\n"
          ]
        }
      ]
    },
    {
      "cell_type": "code",
      "source": [
        "import numpy\n",
        "# convert an array of values into a dataset matrix\n",
        "def create_dataset(dataset, time_step=1):\n",
        "\tdataX, dataY = [], []\n",
        "\tfor i in range(len(dataset)-time_step-1):\n",
        "\t\ta = dataset[i:(i+time_step), 0]  \n",
        "\t\tdataX.append(a)\n",
        "\t\tdataY.append(dataset[i + time_step, 0])\n",
        "\treturn numpy.array(dataX), numpy.array(dataY)"
      ],
      "metadata": {
        "id": "4BW6NrOLBLq4"
      },
      "execution_count": 129,
      "outputs": []
    },
    {
      "cell_type": "code",
      "source": [
        "# reshape into X=t,t+1,t+2,t+3 and Y=t+4\n",
        "time_step = 100\n",
        "X_train, y_train = create_dataset(train_data, time_step)\n",
        "X_test, ytest = create_dataset(test_data, time_step)"
      ],
      "metadata": {
        "id": "7cOW2fz3U38C"
      },
      "execution_count": 131,
      "outputs": []
    },
    {
      "cell_type": "code",
      "source": [
        "print(X_train.shape)\n",
        "print(y_train.shape)\n",
        "print(X_test.shape)\n",
        "print(ytest.shape)"
      ],
      "metadata": {
        "colab": {
          "base_uri": "https://localhost:8080/"
        },
        "id": "8VKamX02VSlP",
        "outputId": "3945e672-d036-46fa-b894-b6f734b2794f"
      },
      "execution_count": 135,
      "outputs": [
        {
          "output_type": "stream",
          "name": "stdout",
          "text": [
            "(1221, 100)\n",
            "(1221,)\n",
            "(612, 100)\n",
            "(612,)\n"
          ]
        }
      ]
    },
    {
      "cell_type": "code",
      "source": [
        "# reshape input to be [samples, time steps, features] which is required for LSTM\n",
        "X_train =X_train.reshape(X_train.shape[0],X_train.shape[1] , 1)\n",
        "X_test = X_test.reshape(X_test.shape[0],X_test.shape[1] , 1)"
      ],
      "metadata": {
        "id": "cOp3NDx8VTFx"
      },
      "execution_count": 136,
      "outputs": []
    },
    {
      "cell_type": "code",
      "source": [
        "### Create the Stacked LSTM model\n",
        "from tensorflow.keras.models import Sequential\n",
        "from tensorflow.keras.layers import Dense\n",
        "from tensorflow.keras.layers import LSTM"
      ],
      "metadata": {
        "id": "16Bdu1XlVvS1"
      },
      "execution_count": 158,
      "outputs": []
    },
    {
      "cell_type": "code",
      "source": [
        "model=Sequential()\n",
        "model.add(LSTM(50,return_sequences=True,input_shape=(100,1)))\n",
        "model.add(LSTM(50,return_sequences=True))\n",
        "model.add(LSTM(50))\n",
        "model.add(Dense(1))\n",
        "model.compile(loss='mean_squared_error',optimizer='adam',metrics='acc')"
      ],
      "metadata": {
        "id": "G2MUDnvFVxx-"
      },
      "execution_count": 162,
      "outputs": []
    },
    {
      "cell_type": "code",
      "source": [
        "model.summary()"
      ],
      "metadata": {
        "colab": {
          "base_uri": "https://localhost:8080/"
        },
        "id": "bjvkn92yV3S9",
        "outputId": "16e89cb3-48bd-41d2-9e8b-c33f35f6cde4"
      },
      "execution_count": 163,
      "outputs": [
        {
          "output_type": "stream",
          "name": "stdout",
          "text": [
            "Model: \"sequential_2\"\n",
            "_________________________________________________________________\n",
            " Layer (type)                Output Shape              Param #   \n",
            "=================================================================\n",
            " lstm_6 (LSTM)               (None, 100, 50)           10400     \n",
            "                                                                 \n",
            " lstm_7 (LSTM)               (None, 100, 50)           20200     \n",
            "                                                                 \n",
            " lstm_8 (LSTM)               (None, 50)                20200     \n",
            "                                                                 \n",
            " dense_2 (Dense)             (None, 1)                 51        \n",
            "                                                                 \n",
            "=================================================================\n",
            "Total params: 50,851\n",
            "Trainable params: 50,851\n",
            "Non-trainable params: 0\n",
            "_________________________________________________________________\n"
          ]
        }
      ]
    },
    {
      "cell_type": "code",
      "source": [
        "model.fit(X_train,y_train,validation_data=(X_test,ytest),epochs=100,batch_size=64,verbose=1)"
      ],
      "metadata": {
        "colab": {
          "base_uri": "https://localhost:8080/"
        },
        "id": "2vV7kQvSV51y",
        "outputId": "f9b12d39-8837-453c-8cca-e54053da60f2"
      },
      "execution_count": 164,
      "outputs": [
        {
          "output_type": "stream",
          "name": "stdout",
          "text": [
            "Epoch 1/100\n",
            "20/20 [==============================] - 10s 262ms/step - loss: 0.0107 - acc: 8.1900e-04 - val_loss: 0.0257 - val_acc: 0.0016\n",
            "Epoch 2/100\n",
            "20/20 [==============================] - 4s 195ms/step - loss: 0.0020 - acc: 8.1900e-04 - val_loss: 0.0039 - val_acc: 0.0016\n",
            "Epoch 3/100\n",
            "20/20 [==============================] - 4s 222ms/step - loss: 9.2654e-04 - acc: 8.1900e-04 - val_loss: 0.0029 - val_acc: 0.0016\n",
            "Epoch 4/100\n",
            "20/20 [==============================] - 4s 203ms/step - loss: 8.5729e-04 - acc: 8.1900e-04 - val_loss: 0.0032 - val_acc: 0.0016\n",
            "Epoch 5/100\n",
            "20/20 [==============================] - 4s 195ms/step - loss: 8.2299e-04 - acc: 8.1900e-04 - val_loss: 0.0026 - val_acc: 0.0016\n",
            "Epoch 6/100\n",
            "20/20 [==============================] - 4s 194ms/step - loss: 7.9105e-04 - acc: 8.1900e-04 - val_loss: 0.0038 - val_acc: 0.0016\n",
            "Epoch 7/100\n",
            "20/20 [==============================] - 4s 195ms/step - loss: 7.8998e-04 - acc: 8.1900e-04 - val_loss: 0.0050 - val_acc: 0.0016\n",
            "Epoch 8/100\n",
            "20/20 [==============================] - 4s 194ms/step - loss: 7.9694e-04 - acc: 8.1900e-04 - val_loss: 0.0021 - val_acc: 0.0016\n",
            "Epoch 9/100\n",
            "20/20 [==============================] - 4s 189ms/step - loss: 7.7028e-04 - acc: 8.1900e-04 - val_loss: 0.0035 - val_acc: 0.0016\n",
            "Epoch 10/100\n",
            "20/20 [==============================] - 4s 196ms/step - loss: 7.2545e-04 - acc: 8.1900e-04 - val_loss: 0.0039 - val_acc: 0.0016\n",
            "Epoch 11/100\n",
            "20/20 [==============================] - 4s 195ms/step - loss: 6.7675e-04 - acc: 8.1900e-04 - val_loss: 0.0023 - val_acc: 0.0016\n",
            "Epoch 12/100\n",
            "20/20 [==============================] - 4s 193ms/step - loss: 6.6372e-04 - acc: 8.1900e-04 - val_loss: 0.0042 - val_acc: 0.0016\n",
            "Epoch 13/100\n",
            "20/20 [==============================] - 4s 195ms/step - loss: 6.6361e-04 - acc: 8.1900e-04 - val_loss: 0.0041 - val_acc: 0.0016\n",
            "Epoch 14/100\n",
            "20/20 [==============================] - 4s 196ms/step - loss: 6.2354e-04 - acc: 8.1900e-04 - val_loss: 0.0067 - val_acc: 0.0016\n",
            "Epoch 15/100\n",
            "20/20 [==============================] - 4s 197ms/step - loss: 6.8748e-04 - acc: 8.1900e-04 - val_loss: 0.0067 - val_acc: 0.0016\n",
            "Epoch 16/100\n",
            "20/20 [==============================] - 4s 196ms/step - loss: 6.7117e-04 - acc: 8.1900e-04 - val_loss: 0.0050 - val_acc: 0.0016\n",
            "Epoch 17/100\n",
            "20/20 [==============================] - 4s 199ms/step - loss: 5.7245e-04 - acc: 8.1900e-04 - val_loss: 0.0038 - val_acc: 0.0016\n",
            "Epoch 18/100\n",
            "20/20 [==============================] - 4s 196ms/step - loss: 5.7979e-04 - acc: 8.1900e-04 - val_loss: 0.0043 - val_acc: 0.0016\n",
            "Epoch 19/100\n",
            "20/20 [==============================] - 4s 197ms/step - loss: 5.5919e-04 - acc: 8.1900e-04 - val_loss: 0.0054 - val_acc: 0.0016\n",
            "Epoch 20/100\n",
            "20/20 [==============================] - 4s 196ms/step - loss: 5.5821e-04 - acc: 8.1900e-04 - val_loss: 0.0047 - val_acc: 0.0016\n",
            "Epoch 21/100\n",
            "20/20 [==============================] - 4s 197ms/step - loss: 5.2845e-04 - acc: 8.1900e-04 - val_loss: 0.0063 - val_acc: 0.0016\n",
            "Epoch 22/100\n",
            "20/20 [==============================] - 4s 197ms/step - loss: 5.1642e-04 - acc: 8.1900e-04 - val_loss: 0.0046 - val_acc: 0.0016\n",
            "Epoch 23/100\n",
            "20/20 [==============================] - 4s 195ms/step - loss: 5.1919e-04 - acc: 8.1900e-04 - val_loss: 0.0070 - val_acc: 0.0016\n",
            "Epoch 24/100\n",
            "20/20 [==============================] - 4s 196ms/step - loss: 4.9095e-04 - acc: 8.1900e-04 - val_loss: 0.0045 - val_acc: 0.0016\n",
            "Epoch 25/100\n",
            "20/20 [==============================] - 4s 194ms/step - loss: 5.0061e-04 - acc: 8.1900e-04 - val_loss: 0.0050 - val_acc: 0.0016\n",
            "Epoch 26/100\n",
            "20/20 [==============================] - 4s 191ms/step - loss: 4.6521e-04 - acc: 8.1900e-04 - val_loss: 0.0074 - val_acc: 0.0016\n",
            "Epoch 27/100\n",
            "20/20 [==============================] - 4s 192ms/step - loss: 4.5779e-04 - acc: 8.1900e-04 - val_loss: 0.0077 - val_acc: 0.0016\n",
            "Epoch 28/100\n",
            "20/20 [==============================] - 4s 195ms/step - loss: 5.2266e-04 - acc: 8.1900e-04 - val_loss: 0.0061 - val_acc: 0.0016\n",
            "Epoch 29/100\n",
            "20/20 [==============================] - 4s 197ms/step - loss: 4.8443e-04 - acc: 8.1900e-04 - val_loss: 0.0063 - val_acc: 0.0016\n",
            "Epoch 30/100\n",
            "20/20 [==============================] - 4s 195ms/step - loss: 4.3691e-04 - acc: 8.1900e-04 - val_loss: 0.0044 - val_acc: 0.0016\n",
            "Epoch 31/100\n",
            "20/20 [==============================] - 4s 192ms/step - loss: 4.2372e-04 - acc: 8.1900e-04 - val_loss: 0.0045 - val_acc: 0.0016\n",
            "Epoch 32/100\n",
            "20/20 [==============================] - 4s 197ms/step - loss: 4.1481e-04 - acc: 8.1900e-04 - val_loss: 0.0064 - val_acc: 0.0016\n",
            "Epoch 33/100\n",
            "20/20 [==============================] - 4s 196ms/step - loss: 4.1489e-04 - acc: 8.1900e-04 - val_loss: 0.0054 - val_acc: 0.0016\n",
            "Epoch 34/100\n",
            "20/20 [==============================] - 4s 193ms/step - loss: 3.8220e-04 - acc: 8.1900e-04 - val_loss: 0.0051 - val_acc: 0.0016\n",
            "Epoch 35/100\n",
            "20/20 [==============================] - 4s 197ms/step - loss: 3.8754e-04 - acc: 8.1900e-04 - val_loss: 0.0037 - val_acc: 0.0016\n",
            "Epoch 36/100\n",
            "20/20 [==============================] - 4s 199ms/step - loss: 3.9662e-04 - acc: 8.1900e-04 - val_loss: 0.0040 - val_acc: 0.0016\n",
            "Epoch 37/100\n",
            "20/20 [==============================] - 4s 198ms/step - loss: 3.6981e-04 - acc: 8.1900e-04 - val_loss: 0.0024 - val_acc: 0.0016\n",
            "Epoch 38/100\n",
            "20/20 [==============================] - 4s 198ms/step - loss: 3.7451e-04 - acc: 8.1900e-04 - val_loss: 0.0057 - val_acc: 0.0016\n",
            "Epoch 39/100\n",
            "20/20 [==============================] - 4s 198ms/step - loss: 3.4863e-04 - acc: 8.1900e-04 - val_loss: 0.0033 - val_acc: 0.0016\n",
            "Epoch 40/100\n",
            "20/20 [==============================] - 4s 190ms/step - loss: 3.2688e-04 - acc: 8.1900e-04 - val_loss: 0.0038 - val_acc: 0.0016\n",
            "Epoch 41/100\n",
            "20/20 [==============================] - 4s 183ms/step - loss: 3.3454e-04 - acc: 8.1900e-04 - val_loss: 0.0027 - val_acc: 0.0016\n",
            "Epoch 42/100\n",
            "20/20 [==============================] - 4s 196ms/step - loss: 3.1060e-04 - acc: 8.1900e-04 - val_loss: 0.0049 - val_acc: 0.0016\n",
            "Epoch 43/100\n",
            "20/20 [==============================] - 5s 237ms/step - loss: 3.1135e-04 - acc: 8.1900e-04 - val_loss: 0.0027 - val_acc: 0.0016\n",
            "Epoch 44/100\n",
            "20/20 [==============================] - 4s 199ms/step - loss: 2.8708e-04 - acc: 8.1900e-04 - val_loss: 0.0017 - val_acc: 0.0016\n",
            "Epoch 45/100\n",
            "20/20 [==============================] - 4s 197ms/step - loss: 2.8866e-04 - acc: 8.1900e-04 - val_loss: 0.0044 - val_acc: 0.0016\n",
            "Epoch 46/100\n",
            "20/20 [==============================] - 4s 197ms/step - loss: 3.3575e-04 - acc: 8.1900e-04 - val_loss: 0.0043 - val_acc: 0.0016\n",
            "Epoch 47/100\n",
            "20/20 [==============================] - 4s 198ms/step - loss: 3.0207e-04 - acc: 8.1900e-04 - val_loss: 0.0027 - val_acc: 0.0016\n",
            "Epoch 48/100\n",
            "20/20 [==============================] - 4s 200ms/step - loss: 3.2894e-04 - acc: 8.1900e-04 - val_loss: 0.0018 - val_acc: 0.0016\n",
            "Epoch 49/100\n",
            "20/20 [==============================] - 4s 199ms/step - loss: 2.8203e-04 - acc: 8.1900e-04 - val_loss: 0.0014 - val_acc: 0.0016\n",
            "Epoch 50/100\n",
            "20/20 [==============================] - 4s 197ms/step - loss: 2.6827e-04 - acc: 8.1900e-04 - val_loss: 0.0018 - val_acc: 0.0016\n",
            "Epoch 51/100\n",
            "20/20 [==============================] - 4s 197ms/step - loss: 2.4437e-04 - acc: 8.1900e-04 - val_loss: 0.0016 - val_acc: 0.0016\n",
            "Epoch 52/100\n",
            "20/20 [==============================] - 4s 197ms/step - loss: 2.3943e-04 - acc: 8.1900e-04 - val_loss: 0.0018 - val_acc: 0.0016\n",
            "Epoch 53/100\n",
            "20/20 [==============================] - 4s 196ms/step - loss: 2.4899e-04 - acc: 8.1900e-04 - val_loss: 0.0018 - val_acc: 0.0016\n",
            "Epoch 54/100\n",
            "20/20 [==============================] - 4s 196ms/step - loss: 2.3288e-04 - acc: 8.1900e-04 - val_loss: 9.4146e-04 - val_acc: 0.0016\n",
            "Epoch 55/100\n",
            "20/20 [==============================] - 4s 208ms/step - loss: 2.2000e-04 - acc: 8.1900e-04 - val_loss: 0.0013 - val_acc: 0.0016\n",
            "Epoch 56/100\n",
            "20/20 [==============================] - 4s 212ms/step - loss: 2.2539e-04 - acc: 8.1900e-04 - val_loss: 0.0019 - val_acc: 0.0016\n",
            "Epoch 57/100\n",
            "20/20 [==============================] - 4s 198ms/step - loss: 2.2583e-04 - acc: 8.1900e-04 - val_loss: 0.0010 - val_acc: 0.0016\n",
            "Epoch 58/100\n",
            "20/20 [==============================] - 4s 188ms/step - loss: 2.5367e-04 - acc: 8.1900e-04 - val_loss: 5.4426e-04 - val_acc: 0.0016\n",
            "Epoch 59/100\n",
            "20/20 [==============================] - 4s 197ms/step - loss: 2.0484e-04 - acc: 8.1900e-04 - val_loss: 8.9628e-04 - val_acc: 0.0016\n",
            "Epoch 60/100\n",
            "20/20 [==============================] - 4s 198ms/step - loss: 1.9155e-04 - acc: 8.1900e-04 - val_loss: 7.1952e-04 - val_acc: 0.0016\n",
            "Epoch 61/100\n",
            "20/20 [==============================] - 4s 193ms/step - loss: 2.8288e-04 - acc: 8.1900e-04 - val_loss: 0.0012 - val_acc: 0.0016\n",
            "Epoch 62/100\n",
            "20/20 [==============================] - 4s 195ms/step - loss: 1.9622e-04 - acc: 8.1900e-04 - val_loss: 0.0018 - val_acc: 0.0016\n",
            "Epoch 63/100\n",
            "20/20 [==============================] - 4s 197ms/step - loss: 2.1873e-04 - acc: 8.1900e-04 - val_loss: 0.0016 - val_acc: 0.0016\n",
            "Epoch 64/100\n",
            "20/20 [==============================] - 4s 199ms/step - loss: 1.7557e-04 - acc: 8.1900e-04 - val_loss: 0.0012 - val_acc: 0.0016\n",
            "Epoch 65/100\n",
            "20/20 [==============================] - 4s 199ms/step - loss: 1.7991e-04 - acc: 8.1900e-04 - val_loss: 0.0028 - val_acc: 0.0016\n",
            "Epoch 66/100\n",
            "20/20 [==============================] - 4s 197ms/step - loss: 2.4280e-04 - acc: 8.1900e-04 - val_loss: 0.0026 - val_acc: 0.0016\n",
            "Epoch 67/100\n",
            "20/20 [==============================] - 4s 197ms/step - loss: 1.9333e-04 - acc: 8.1900e-04 - val_loss: 9.5445e-04 - val_acc: 0.0016\n",
            "Epoch 68/100\n",
            "20/20 [==============================] - 4s 198ms/step - loss: 1.8556e-04 - acc: 8.1900e-04 - val_loss: 8.7888e-04 - val_acc: 0.0016\n",
            "Epoch 69/100\n",
            "20/20 [==============================] - 4s 197ms/step - loss: 1.6190e-04 - acc: 8.1900e-04 - val_loss: 7.9531e-04 - val_acc: 0.0016\n",
            "Epoch 70/100\n",
            "20/20 [==============================] - 4s 200ms/step - loss: 1.7967e-04 - acc: 8.1900e-04 - val_loss: 5.1477e-04 - val_acc: 0.0016\n",
            "Epoch 71/100\n",
            "20/20 [==============================] - 4s 190ms/step - loss: 1.9969e-04 - acc: 8.1900e-04 - val_loss: 0.0011 - val_acc: 0.0016\n",
            "Epoch 72/100\n",
            "20/20 [==============================] - 4s 194ms/step - loss: 1.6080e-04 - acc: 8.1900e-04 - val_loss: 0.0010 - val_acc: 0.0016\n",
            "Epoch 73/100\n",
            "20/20 [==============================] - 4s 198ms/step - loss: 1.5607e-04 - acc: 8.1900e-04 - val_loss: 0.0015 - val_acc: 0.0016\n",
            "Epoch 74/100\n",
            "20/20 [==============================] - 4s 196ms/step - loss: 1.7386e-04 - acc: 8.1900e-04 - val_loss: 0.0019 - val_acc: 0.0016\n",
            "Epoch 75/100\n",
            "20/20 [==============================] - 4s 198ms/step - loss: 1.7759e-04 - acc: 8.1900e-04 - val_loss: 0.0014 - val_acc: 0.0016\n",
            "Epoch 76/100\n",
            "20/20 [==============================] - 4s 198ms/step - loss: 1.5337e-04 - acc: 8.1900e-04 - val_loss: 6.1042e-04 - val_acc: 0.0016\n",
            "Epoch 77/100\n",
            "20/20 [==============================] - 4s 197ms/step - loss: 1.7419e-04 - acc: 8.1900e-04 - val_loss: 8.6881e-04 - val_acc: 0.0016\n",
            "Epoch 78/100\n",
            "20/20 [==============================] - 4s 197ms/step - loss: 1.5120e-04 - acc: 8.1900e-04 - val_loss: 0.0014 - val_acc: 0.0016\n",
            "Epoch 79/100\n",
            "20/20 [==============================] - 4s 197ms/step - loss: 1.5023e-04 - acc: 8.1900e-04 - val_loss: 5.1498e-04 - val_acc: 0.0016\n",
            "Epoch 80/100\n",
            "20/20 [==============================] - 4s 193ms/step - loss: 1.5535e-04 - acc: 8.1900e-04 - val_loss: 9.9422e-04 - val_acc: 0.0016\n",
            "Epoch 81/100\n",
            "20/20 [==============================] - 4s 198ms/step - loss: 1.4499e-04 - acc: 8.1900e-04 - val_loss: 6.1862e-04 - val_acc: 0.0016\n",
            "Epoch 82/100\n",
            "20/20 [==============================] - 4s 197ms/step - loss: 1.7202e-04 - acc: 8.1900e-04 - val_loss: 0.0014 - val_acc: 0.0016\n",
            "Epoch 83/100\n",
            "20/20 [==============================] - 4s 199ms/step - loss: 1.5890e-04 - acc: 8.1900e-04 - val_loss: 9.6447e-04 - val_acc: 0.0016\n",
            "Epoch 84/100\n",
            "20/20 [==============================] - 4s 200ms/step - loss: 1.4302e-04 - acc: 8.1900e-04 - val_loss: 6.1175e-04 - val_acc: 0.0016\n",
            "Epoch 85/100\n",
            "20/20 [==============================] - 4s 198ms/step - loss: 1.7611e-04 - acc: 8.1900e-04 - val_loss: 0.0012 - val_acc: 0.0016\n",
            "Epoch 86/100\n",
            "20/20 [==============================] - 4s 188ms/step - loss: 1.4971e-04 - acc: 8.1900e-04 - val_loss: 0.0016 - val_acc: 0.0016\n",
            "Epoch 87/100\n",
            "20/20 [==============================] - 4s 198ms/step - loss: 1.4221e-04 - acc: 8.1900e-04 - val_loss: 0.0011 - val_acc: 0.0016\n",
            "Epoch 88/100\n",
            "20/20 [==============================] - 4s 196ms/step - loss: 1.3560e-04 - acc: 8.1900e-04 - val_loss: 0.0026 - val_acc: 0.0016\n",
            "Epoch 89/100\n",
            "20/20 [==============================] - 4s 198ms/step - loss: 1.6838e-04 - acc: 8.1900e-04 - val_loss: 8.9966e-04 - val_acc: 0.0016\n",
            "Epoch 90/100\n",
            "20/20 [==============================] - 4s 197ms/step - loss: 1.3622e-04 - acc: 8.1900e-04 - val_loss: 6.9002e-04 - val_acc: 0.0016\n",
            "Epoch 91/100\n",
            "20/20 [==============================] - 4s 199ms/step - loss: 1.4367e-04 - acc: 8.1900e-04 - val_loss: 8.2822e-04 - val_acc: 0.0016\n",
            "Epoch 92/100\n",
            "20/20 [==============================] - 4s 198ms/step - loss: 1.5059e-04 - acc: 8.1900e-04 - val_loss: 7.5318e-04 - val_acc: 0.0016\n",
            "Epoch 93/100\n",
            "20/20 [==============================] - 4s 197ms/step - loss: 1.4235e-04 - acc: 8.1900e-04 - val_loss: 9.0114e-04 - val_acc: 0.0016\n",
            "Epoch 94/100\n",
            "20/20 [==============================] - 4s 197ms/step - loss: 1.3061e-04 - acc: 8.1900e-04 - val_loss: 7.2034e-04 - val_acc: 0.0016\n",
            "Epoch 95/100\n",
            "20/20 [==============================] - 5s 236ms/step - loss: 1.3834e-04 - acc: 8.1900e-04 - val_loss: 0.0013 - val_acc: 0.0016\n",
            "Epoch 96/100\n",
            "20/20 [==============================] - 4s 199ms/step - loss: 1.4179e-04 - acc: 8.1900e-04 - val_loss: 0.0011 - val_acc: 0.0016\n",
            "Epoch 97/100\n",
            "20/20 [==============================] - 4s 198ms/step - loss: 1.3550e-04 - acc: 8.1900e-04 - val_loss: 9.6766e-04 - val_acc: 0.0016\n",
            "Epoch 98/100\n",
            "20/20 [==============================] - 4s 198ms/step - loss: 1.3226e-04 - acc: 8.1900e-04 - val_loss: 9.9101e-04 - val_acc: 0.0016\n",
            "Epoch 99/100\n",
            "20/20 [==============================] - 4s 197ms/step - loss: 1.3156e-04 - acc: 8.1900e-04 - val_loss: 0.0010 - val_acc: 0.0016\n",
            "Epoch 100/100\n",
            "20/20 [==============================] - 4s 199ms/step - loss: 1.4274e-04 - acc: 8.1900e-04 - val_loss: 0.0017 - val_acc: 0.0016\n"
          ]
        },
        {
          "output_type": "execute_result",
          "data": {
            "text/plain": [
              "<keras.callbacks.History at 0x7f7c0ecbcf90>"
            ]
          },
          "metadata": {},
          "execution_count": 164
        }
      ]
    },
    {
      "cell_type": "code",
      "source": [
        "### Lets Do the prediction and check performance metrics\n",
        "train_predict=model.predict(X_train)\n",
        "test_predict=model.predict(X_test)"
      ],
      "metadata": {
        "colab": {
          "base_uri": "https://localhost:8080/"
        },
        "id": "bm5SMn8CV_Z8",
        "outputId": "6121c568-1c84-4577-ada5-e9d9be9c8759"
      },
      "execution_count": 165,
      "outputs": [
        {
          "output_type": "stream",
          "name": "stdout",
          "text": [
            "39/39 [==============================] - 3s 34ms/step\n",
            "20/20 [==============================] - 1s 33ms/step\n"
          ]
        }
      ]
    },
    {
      "cell_type": "code",
      "source": [
        "##Transformback to original form\n",
        "train_predict=scaler.inverse_transform(train_predict)\n",
        "test_predict=scaler.inverse_transform(test_predict)"
      ],
      "metadata": {
        "id": "wCwaAconX6_5"
      },
      "execution_count": 166,
      "outputs": []
    },
    {
      "cell_type": "code",
      "source": [
        "### Calculate RMSE performance metrics\n",
        "import math\n",
        "from sklearn.metrics import mean_squared_error\n",
        "math.sqrt(mean_squared_error(y_train,train_predict))"
      ],
      "metadata": {
        "colab": {
          "base_uri": "https://localhost:8080/"
        },
        "id": "zJFdV9X9X-w7",
        "outputId": "228d2b7d-10d3-44ad-85f7-b607fae0d147"
      },
      "execution_count": 167,
      "outputs": [
        {
          "output_type": "execute_result",
          "data": {
            "text/plain": [
              "134.15892696144752"
            ]
          },
          "metadata": {},
          "execution_count": 167
        }
      ]
    },
    {
      "cell_type": "code",
      "source": [
        "### Test Data RMSE\n",
        "math.sqrt(mean_squared_error(ytest,test_predict))"
      ],
      "metadata": {
        "colab": {
          "base_uri": "https://localhost:8080/"
        },
        "id": "LbM8FD_SYBsp",
        "outputId": "89350285-7470-4bb5-d303-4e76f70aa5d6"
      },
      "execution_count": 168,
      "outputs": [
        {
          "output_type": "execute_result",
          "data": {
            "text/plain": [
              "195.1040995413701"
            ]
          },
          "metadata": {},
          "execution_count": 168
        }
      ]
    },
    {
      "cell_type": "code",
      "source": [
        "### Plotting \n",
        "# shift train predictions for plotting\n",
        "look_back=100\n",
        "trainPredictPlot = numpy.empty_like(df1)\n",
        "trainPredictPlot[:, :] = np.nan\n",
        "trainPredictPlot[look_back:len(train_predict)+look_back, :] = train_predict\n",
        "# shift test predictions for plotting\n",
        "testPredictPlot = numpy.empty_like(df1)\n",
        "testPredictPlot[:, :] = numpy.nan\n",
        "testPredictPlot[len(train_predict)+(look_back*2)+1:len(df1)-1, :] = test_predict\n",
        "# plot baseline and predictions\n",
        "plt.plot(scaler.inverse_transform(df1))\n",
        "plt.plot(trainPredictPlot)\n",
        "plt.plot(testPredictPlot)\n",
        "plt.show()"
      ],
      "metadata": {
        "colab": {
          "base_uri": "https://localhost:8080/",
          "height": 265
        },
        "id": "6TDBvygaYE4f",
        "outputId": "cafdbede-d18b-4cb8-9e8d-e6f39773bbea"
      },
      "execution_count": 169,
      "outputs": [
        {
          "output_type": "display_data",
          "data": {
            "text/plain": [
              "<Figure size 432x288 with 1 Axes>"
            ],
            "image/png": "[encoded data removed]"
          },
          "metadata": {
            "needs_background": "light"
          }
        }
      ]
    },
    {
      "cell_type": "code",
      "source": [],
      "metadata": {
        "id": "wH6mkB51aXCU"
      },
      "execution_count": null,
      "outputs": []
    }
  ]
}