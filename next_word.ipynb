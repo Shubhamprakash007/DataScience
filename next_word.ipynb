{
  "nbformat": 4,
  "nbformat_minor": 0,
  "metadata": {
    "colab": {
      "provenance": [],
      "collapsed_sections": [],
      "authorship_tag": "ABX9TyMYtucYtfWxbJaqqjx+3FUA",
      "include_colab_link": true
    },
    "kernelspec": {
      "name": "python3",
      "display_name": "Python 3"
    },
    "language_info": {
      "name": "python"
    },
    "accelerator": "GPU"
  },
  "cells": [
    {
      "cell_type": "markdown",
      "metadata": {
        "id": "view-in-github",
        "colab_type": "text"
      },
      "source": [
        "<a href=\"https://colab.research.google.com/github/Shubhamprakash007/LGMVIP--DataScience/blob/main/next_word.ipynb\" target=\"_parent\"><img src=\"https://colab.research.google.com/assets/colab-badge.svg\" alt=\"Open In Colab\"/></a>"
      ]
    },
    {
      "cell_type": "code",
      "execution_count": 2,
      "metadata": {
        "id": "irJwtgaevkV9"
      },
      "outputs": [],
      "source": [
        "import numpy as np \n",
        "import matplotlib.pyplot as plt\n",
        "from tensorflow.keras.models import Sequential\n",
        "from tensorflow.keras.utils import to_categorical \n",
        "from tensorflow.keras.preprocessing.text import Tokenizer\n",
        "from tensorflow.keras.preprocessing.sequence import pad_sequences\n",
        "from tensorflow.keras.layers import Embedding, LSTM, Dense, Bidirectional"
      ]
    },
    {
      "cell_type": "code",
      "source": [
        "#deefine path for file\n",
        "#Project Gutenberg's The Adventures of Sherlock Holmes, by Arthur Conan Doyle\n",
        "SHERLOCK_FILE = '1661-0.txt'\n",
        "\n",
        "# Read the data\n",
        "with open('1661-0.txt',  encoding='utf-8-sig') as f:\n",
        "    data = f.read()\n",
        "\n",
        "# Convert to lower case and save as a list\n",
        "corpus = data.lower().split(\"\\n\")\n",
        "\n",
        "print(f\"There are {len(corpus)} lines of sonnets\\n\")\n",
        "print(f\"The first 5 lines look like this:\\n\")\n",
        "for i in range(5):\n",
        "  print(corpus[i])"
      ],
      "metadata": {
        "colab": {
          "base_uri": "https://localhost:8080/"
        },
        "id": "EDp4xgb1wI8G",
        "outputId": "98fb46aa-9c77-4cd4-8f6f-4d74d5302746"
      },
      "execution_count": 3,
      "outputs": [
        {
          "output_type": "stream",
          "name": "stdout",
          "text": [
            "There are 12249 lines of sonnets\n",
            "\n",
            "The first 5 lines look like this:\n",
            "\n",
            "a scandal in bohemia\n",
            "to sherlock holmes she is always _the_ woman. i have seldom heard him\n",
            "mention her under any other name. in his eyes she eclipses and\n",
            "predominates the whole of her sex. it was not that he felt any emotion\n",
            "akin to love for irene adler. all emotions, and that one particularly,\n"
          ]
        }
      ]
    },
    {
      "cell_type": "code",
      "source": [
        "tokenizer = Tokenizer()\n",
        "tokenizer.fit_on_texts(corpus)\n",
        "total_words = len(tokenizer.word_index) + 1"
      ],
      "metadata": {
        "id": "Mxx5hLg8wNSh"
      },
      "execution_count": 4,
      "outputs": []
    },
    {
      "cell_type": "code",
      "source": [
        "\n",
        "corpus[0]"
      ],
      "metadata": {
        "colab": {
          "base_uri": "https://localhost:8080/",
          "height": 35
        },
        "id": "mBrwcfn4wX1i",
        "outputId": "f1116b5f-6cd6-4526-cc81-f2d82982f82e"
      },
      "execution_count": 5,
      "outputs": [
        {
          "output_type": "execute_result",
          "data": {
            "text/plain": [
              "'a scandal in bohemia'"
            ],
            "application/vnd.google.colaboratory.intrinsic+json": {
              "type": "string"
            }
          },
          "metadata": {},
          "execution_count": 5
        }
      ]
    },
    {
      "cell_type": "code",
      "source": [
        "tokenizer.texts_to_sequences(corpus[0])"
      ],
      "metadata": {
        "colab": {
          "base_uri": "https://localhost:8080/"
        },
        "id": "eISAw0rZwcsX",
        "outputId": "73bd86e3-647c-4bb8-c654-38d870526a50"
      },
      "execution_count": 6,
      "outputs": [
        {
          "output_type": "execute_result",
          "data": {
            "text/plain": [
              "[[5],\n",
              " [],\n",
              " [564],\n",
              " [1432],\n",
              " [5],\n",
              " [],\n",
              " [1451],\n",
              " [5],\n",
              " [],\n",
              " [],\n",
              " [6],\n",
              " [],\n",
              " [],\n",
              " [1449],\n",
              " [6424],\n",
              " [2549],\n",
              " [521],\n",
              " [7999],\n",
              " [6],\n",
              " [5]]"
            ]
          },
          "metadata": {},
          "execution_count": 6
        }
      ]
    },
    {
      "cell_type": "code",
      "source": [
        "tokenizer.texts_to_sequences([corpus[0]])"
      ],
      "metadata": {
        "colab": {
          "base_uri": "https://localhost:8080/"
        },
        "id": "MIzADB5Zwe1g",
        "outputId": "340d9f35-84ca-446a-e220-bb808d9eee80"
      },
      "execution_count": 7,
      "outputs": [
        {
          "output_type": "execute_result",
          "data": {
            "text/plain": [
              "[[5, 937, 8, 1016]]"
            ]
          },
          "metadata": {},
          "execution_count": 7
        }
      ]
    },
    {
      "cell_type": "code",
      "source": [
        "tokenizer.texts_to_sequences([corpus[0]])[0]"
      ],
      "metadata": {
        "colab": {
          "base_uri": "https://localhost:8080/"
        },
        "id": "5IGAV0auwhry",
        "outputId": "138840f7-c2aa-40e9-8999-cdfb7d8ac909"
      },
      "execution_count": 8,
      "outputs": [
        {
          "output_type": "execute_result",
          "data": {
            "text/plain": [
              "[5, 937, 8, 1016]"
            ]
          },
          "metadata": {},
          "execution_count": 8
        }
      ]
    },
    {
      "cell_type": "code",
      "source": [
        "# GRADED FUNCTION: n_gram_seqs\n",
        "def n_gram_seqs(corpus, tokenizer):\n",
        "    \"\"\"\n",
        "    Generates a list of n-gram sequences\n",
        "    \n",
        "    Args:\n",
        "        corpus (list of string): lines of texts to generate n-grams for\n",
        "        tokenizer (object): an instance of the Tokenizer class containing the word-index dictionary\n",
        "    \n",
        "    Returns:\n",
        "        input_sequences (list of int): the n-gram sequences for each line in the corpus\n",
        "    \"\"\"\n",
        "    input_sequences = []\n",
        "    \n",
        "    ### START CODE HERE\n",
        "    for line in corpus:\n",
        "      token_list = tokenizer.texts_to_sequences([line])[0]\n",
        "      for i in range(1, len(token_list)):\n",
        "        n_gram_sequence = token_list[:i+1]\n",
        "        input_sequences.append(n_gram_sequence)\n",
        "    \n",
        "    ### END CODE HERE\n",
        "    \n",
        "    return input_sequences"
      ],
      "metadata": {
        "id": "-J7anNYswj7D"
      },
      "execution_count": 9,
      "outputs": []
    },
    {
      "cell_type": "code",
      "source": [
        "# Test your function with one example\n",
        "first_example_sequence = n_gram_seqs([corpus[0]], tokenizer)\n",
        "\n",
        "print(\"n_gram sequences for first example look like this:\\n\")\n",
        "first_example_sequence"
      ],
      "metadata": {
        "colab": {
          "base_uri": "https://localhost:8080/"
        },
        "id": "cj6ZyQAiwnUi",
        "outputId": "712cfcf5-526e-4183-9293-1dcac1d18a98"
      },
      "execution_count": 10,
      "outputs": [
        {
          "output_type": "stream",
          "name": "stdout",
          "text": [
            "n_gram sequences for first example look like this:\n",
            "\n"
          ]
        },
        {
          "output_type": "execute_result",
          "data": {
            "text/plain": [
              "[[5, 937], [5, 937, 8], [5, 937, 8, 1016]]"
            ]
          },
          "metadata": {},
          "execution_count": 10
        }
      ]
    },
    {
      "cell_type": "code",
      "source": [
        "# Test your function with a bigger corpus\n",
        "next_3_examples_sequence = n_gram_seqs(corpus[1:4], tokenizer)\n",
        "\n",
        "print(\"n_gram sequences for next 3 examples look like this:\\n\")\n",
        "next_3_examples_sequence"
      ],
      "metadata": {
        "colab": {
          "base_uri": "https://localhost:8080/"
        },
        "id": "rQFqGYOtwqM8",
        "outputId": "96c54290-0339-48ab-c595-4958ba2bb457"
      },
      "execution_count": 11,
      "outputs": [
        {
          "output_type": "stream",
          "name": "stdout",
          "text": [
            "n_gram sequences for next 3 examples look like this:\n",
            "\n"
          ]
        },
        {
          "output_type": "execute_result",
          "data": {
            "text/plain": [
              "[[3, 132],\n",
              " [3, 132, 34],\n",
              " [3, 132, 34, 38],\n",
              " [3, 132, 34, 38, 15],\n",
              " [3, 132, 34, 38, 15, 229],\n",
              " [3, 132, 34, 38, 15, 229, 1],\n",
              " [3, 132, 34, 38, 15, 229, 1, 221],\n",
              " [3, 132, 34, 38, 15, 229, 1, 221, 6],\n",
              " [3, 132, 34, 38, 15, 229, 1, 221, 6, 17],\n",
              " [3, 132, 34, 38, 15, 229, 1, 221, 6, 17, 1673],\n",
              " [3, 132, 34, 38, 15, 229, 1, 221, 6, 17, 1673, 116],\n",
              " [3, 132, 34, 38, 15, 229, 1, 221, 6, 17, 1673, 116, 35],\n",
              " [3392, 37],\n",
              " [3392, 37, 267],\n",
              " [3392, 37, 267, 89],\n",
              " [3392, 37, 267, 89, 90],\n",
              " [3392, 37, 267, 89, 90, 213],\n",
              " [3392, 37, 267, 89, 90, 213, 8],\n",
              " [3392, 37, 267, 89, 90, 213, 8, 14],\n",
              " [3392, 37, 267, 89, 90, 213, 8, 14, 150],\n",
              " [3392, 37, 267, 89, 90, 213, 8, 14, 150, 38],\n",
              " [3392, 37, 267, 89, 90, 213, 8, 14, 150, 38, 4766],\n",
              " [3392, 37, 267, 89, 90, 213, 8, 14, 150, 38, 4766, 2],\n",
              " [4767, 1],\n",
              " [4767, 1, 282],\n",
              " [4767, 1, 282, 4],\n",
              " [4767, 1, 282, 4, 37],\n",
              " [4767, 1, 282, 4, 37, 4768],\n",
              " [4767, 1, 282, 4, 37, 4768, 10],\n",
              " [4767, 1, 282, 4, 37, 4768, 10, 12],\n",
              " [4767, 1, 282, 4, 37, 4768, 10, 12, 25],\n",
              " [4767, 1, 282, 4, 37, 4768, 10, 12, 25, 9],\n",
              " [4767, 1, 282, 4, 37, 4768, 10, 12, 25, 9, 11],\n",
              " [4767, 1, 282, 4, 37, 4768, 10, 12, 25, 9, 11, 356],\n",
              " [4767, 1, 282, 4, 37, 4768, 10, 12, 25, 9, 11, 356, 89],\n",
              " [4767, 1, 282, 4, 37, 4768, 10, 12, 25, 9, 11, 356, 89, 1926]]"
            ]
          },
          "metadata": {},
          "execution_count": 11
        }
      ]
    },
    {
      "cell_type": "code",
      "source": [
        "# Apply the n_gram_seqs transformation to the whole corpus\n",
        "input_sequences = n_gram_seqs(corpus, tokenizer)\n",
        "\n",
        "# Save max length \n",
        "max_sequence_len = max([len(x) for x in input_sequences])\n",
        "\n",
        "print(f\"n_grams of input_sequences have length: {len(input_sequences)}\")\n",
        "print(f\"maximum length of sequences is: {max_sequence_len}\")"
      ],
      "metadata": {
        "colab": {
          "base_uri": "https://localhost:8080/"
        },
        "id": "LAPzLK2Tws7Q",
        "outputId": "8b68010d-3ede-4500-c120-40700198a63b"
      },
      "execution_count": 12,
      "outputs": [
        {
          "output_type": "stream",
          "name": "stdout",
          "text": [
            "n_grams of input_sequences have length: 101446\n",
            "maximum length of sequences is: 20\n"
          ]
        }
      ]
    },
    {
      "cell_type": "code",
      "source": [
        "\n",
        "\n",
        "# GRADED FUNCTION: pad_seqs\n",
        "def pad_seqs(input_sequences, maxlen):\n",
        "    \"\"\"\n",
        "    Pads tokenized sequences to the same length\n",
        "    \n",
        "    Args:\n",
        "        input_sequences (list of int): tokenized sequences to pad\n",
        "        maxlen (int): maximum length of the token sequences\n",
        "    \n",
        "    Returns:\n",
        "        padded_sequences (array of int): tokenized sequences padded to the same length\n",
        "    \"\"\"\n",
        "    ### START CODE HERE\n",
        "    padded_sequences = np.array(pad_sequences(input_sequences, maxlen=maxlen, padding='pre'))\n",
        "    \n",
        "    return padded_sequences\n",
        "    ### END CODE HERE"
      ],
      "metadata": {
        "id": "oGaNSf6Iw4h5"
      },
      "execution_count": 13,
      "outputs": []
    },
    {
      "cell_type": "code",
      "source": [
        "# Test your function with the n_grams_seq of the first example\n",
        "first_padded_seq = pad_seqs(first_example_sequence, len(first_example_sequence))\n",
        "first_padded_seq"
      ],
      "metadata": {
        "colab": {
          "base_uri": "https://localhost:8080/"
        },
        "id": "yvgwW3SgxNF5",
        "outputId": "b5c6612e-a97d-4c35-cafc-0ca3a0bfe98f"
      },
      "execution_count": 14,
      "outputs": [
        {
          "output_type": "execute_result",
          "data": {
            "text/plain": [
              "array([[   0,    5,  937],\n",
              "       [   5,  937,    8],\n",
              "       [ 937,    8, 1016]], dtype=int32)"
            ]
          },
          "metadata": {},
          "execution_count": 14
        }
      ]
    },
    {
      "cell_type": "code",
      "source": [
        "# Test your function with the n_grams_seq of the next 3 examples\n",
        "next_3_padded_seq = pad_seqs(next_3_examples_sequence, max([len(s) for s in next_3_examples_sequence]))\n",
        "next_3_padded_seq"
      ],
      "metadata": {
        "colab": {
          "base_uri": "https://localhost:8080/"
        },
        "id": "JbJM2HXkxRJt",
        "outputId": "6b633ee8-c382-4c84-ea54-cb85e717323d"
      },
      "execution_count": 15,
      "outputs": [
        {
          "output_type": "execute_result",
          "data": {
            "text/plain": [
              "array([[   0,    0,    0,    0,    0,    0,    0,    0,    0,    0,    0,\n",
              "           0,    3,  132],\n",
              "       [   0,    0,    0,    0,    0,    0,    0,    0,    0,    0,    0,\n",
              "           3,  132,   34],\n",
              "       [   0,    0,    0,    0,    0,    0,    0,    0,    0,    0,    3,\n",
              "         132,   34,   38],\n",
              "       [   0,    0,    0,    0,    0,    0,    0,    0,    0,    3,  132,\n",
              "          34,   38,   15],\n",
              "       [   0,    0,    0,    0,    0,    0,    0,    0,    3,  132,   34,\n",
              "          38,   15,  229],\n",
              "       [   0,    0,    0,    0,    0,    0,    0,    3,  132,   34,   38,\n",
              "          15,  229,    1],\n",
              "       [   0,    0,    0,    0,    0,    0,    3,  132,   34,   38,   15,\n",
              "         229,    1,  221],\n",
              "       [   0,    0,    0,    0,    0,    3,  132,   34,   38,   15,  229,\n",
              "           1,  221,    6],\n",
              "       [   0,    0,    0,    0,    3,  132,   34,   38,   15,  229,    1,\n",
              "         221,    6,   17],\n",
              "       [   0,    0,    0,    3,  132,   34,   38,   15,  229,    1,  221,\n",
              "           6,   17, 1673],\n",
              "       [   0,    0,    3,  132,   34,   38,   15,  229,    1,  221,    6,\n",
              "          17, 1673,  116],\n",
              "       [   0,    3,  132,   34,   38,   15,  229,    1,  221,    6,   17,\n",
              "        1673,  116,   35],\n",
              "       [   0,    0,    0,    0,    0,    0,    0,    0,    0,    0,    0,\n",
              "           0, 3392,   37],\n",
              "       [   0,    0,    0,    0,    0,    0,    0,    0,    0,    0,    0,\n",
              "        3392,   37,  267],\n",
              "       [   0,    0,    0,    0,    0,    0,    0,    0,    0,    0, 3392,\n",
              "          37,  267,   89],\n",
              "       [   0,    0,    0,    0,    0,    0,    0,    0,    0, 3392,   37,\n",
              "         267,   89,   90],\n",
              "       [   0,    0,    0,    0,    0,    0,    0,    0, 3392,   37,  267,\n",
              "          89,   90,  213],\n",
              "       [   0,    0,    0,    0,    0,    0,    0, 3392,   37,  267,   89,\n",
              "          90,  213,    8],\n",
              "       [   0,    0,    0,    0,    0,    0, 3392,   37,  267,   89,   90,\n",
              "         213,    8,   14],\n",
              "       [   0,    0,    0,    0,    0, 3392,   37,  267,   89,   90,  213,\n",
              "           8,   14,  150],\n",
              "       [   0,    0,    0,    0, 3392,   37,  267,   89,   90,  213,    8,\n",
              "          14,  150,   38],\n",
              "       [   0,    0,    0, 3392,   37,  267,   89,   90,  213,    8,   14,\n",
              "         150,   38, 4766],\n",
              "       [   0,    0, 3392,   37,  267,   89,   90,  213,    8,   14,  150,\n",
              "          38, 4766,    2],\n",
              "       [   0,    0,    0,    0,    0,    0,    0,    0,    0,    0,    0,\n",
              "           0, 4767,    1],\n",
              "       [   0,    0,    0,    0,    0,    0,    0,    0,    0,    0,    0,\n",
              "        4767,    1,  282],\n",
              "       [   0,    0,    0,    0,    0,    0,    0,    0,    0,    0, 4767,\n",
              "           1,  282,    4],\n",
              "       [   0,    0,    0,    0,    0,    0,    0,    0,    0, 4767,    1,\n",
              "         282,    4,   37],\n",
              "       [   0,    0,    0,    0,    0,    0,    0,    0, 4767,    1,  282,\n",
              "           4,   37, 4768],\n",
              "       [   0,    0,    0,    0,    0,    0,    0, 4767,    1,  282,    4,\n",
              "          37, 4768,   10],\n",
              "       [   0,    0,    0,    0,    0,    0, 4767,    1,  282,    4,   37,\n",
              "        4768,   10,   12],\n",
              "       [   0,    0,    0,    0,    0, 4767,    1,  282,    4,   37, 4768,\n",
              "          10,   12,   25],\n",
              "       [   0,    0,    0,    0, 4767,    1,  282,    4,   37, 4768,   10,\n",
              "          12,   25,    9],\n",
              "       [   0,    0,    0, 4767,    1,  282,    4,   37, 4768,   10,   12,\n",
              "          25,    9,   11],\n",
              "       [   0,    0, 4767,    1,  282,    4,   37, 4768,   10,   12,   25,\n",
              "           9,   11,  356],\n",
              "       [   0, 4767,    1,  282,    4,   37, 4768,   10,   12,   25,    9,\n",
              "          11,  356,   89],\n",
              "       [4767,    1,  282,    4,   37, 4768,   10,   12,   25,    9,   11,\n",
              "         356,   89, 1926]], dtype=int32)"
            ]
          },
          "metadata": {},
          "execution_count": 15
        }
      ]
    },
    {
      "cell_type": "code",
      "source": [
        "# Pad the whole corpus\n",
        "input_sequences = pad_seqs(input_sequences, max_sequence_len)\n",
        "\n",
        "print(f\"padded corpus has shape: {input_sequences.shape}\")"
      ],
      "metadata": {
        "colab": {
          "base_uri": "https://localhost:8080/"
        },
        "id": "IKwA6ks8xTcD",
        "outputId": "1727fdf4-d0e3-42bd-9228-3df00edde181"
      },
      "execution_count": 16,
      "outputs": [
        {
          "output_type": "stream",
          "name": "stdout",
          "text": [
            "padded corpus has shape: (101446, 20)\n"
          ]
        }
      ]
    },
    {
      "cell_type": "code",
      "source": [
        "# GRADED FUNCTION: features_and_labels\n",
        "def features_and_labels(input_sequences, total_words):\n",
        "    \"\"\"\n",
        "    Generates features and labels from n-grams\n",
        "    \n",
        "    Args:\n",
        "        input_sequences (list of int): sequences to split features and labels from\n",
        "        total_words (int): vocabulary size\n",
        "    \n",
        "    Returns:\n",
        "        features, one_hot_labels (array of int, array of int): arrays of features and one-hot encoded labels\n",
        "    \"\"\"\n",
        "    ### START CODE HERE\n",
        "    features = input_sequences[:,:-1]\n",
        "    labels = input_sequences[:,-1]\n",
        "    one_hot_labels = to_categorical(labels, num_classes=total_words)\n",
        "    ### END CODE HERE\n",
        "\n",
        "    return features, one_hot_labels"
      ],
      "metadata": {
        "id": "aoXoSp3zxYQh"
      },
      "execution_count": 17,
      "outputs": []
    },
    {
      "cell_type": "code",
      "source": [
        "# Test your function with the padded n_grams_seq of the first example\n",
        "first_features, first_labels = features_and_labels(first_padded_seq, total_words)\n",
        "\n",
        "print(f\"labels have shape: {first_labels.shape}\")\n",
        "print(\"\\nfeatures look like this:\\n\")\n",
        "first_features"
      ],
      "metadata": {
        "colab": {
          "base_uri": "https://localhost:8080/"
        },
        "id": "M3BKgXmhxbxX",
        "outputId": "61c5c5fc-4081-4823-b01d-37bd68754f1f"
      },
      "execution_count": 18,
      "outputs": [
        {
          "output_type": "stream",
          "name": "stdout",
          "text": [
            "labels have shape: (3, 8916)\n",
            "\n",
            "features look like this:\n",
            "\n"
          ]
        },
        {
          "output_type": "execute_result",
          "data": {
            "text/plain": [
              "array([[  0,   5],\n",
              "       [  5, 937],\n",
              "       [937,   8]], dtype=int32)"
            ]
          },
          "metadata": {},
          "execution_count": 18
        }
      ]
    },
    {
      "cell_type": "code",
      "source": [
        "# Split the whole corpus\n",
        "features, labels = features_and_labels(input_sequences, total_words)\n",
        "\n",
        "print(f\"features have shape: {features.shape}\")\n",
        "print(f\"labels have shape: {labels.shape}\")"
      ],
      "metadata": {
        "colab": {
          "base_uri": "https://localhost:8080/"
        },
        "id": "z8WpdBWCxeD-",
        "outputId": "154e485f-9149-4017-eb60-0e5c95985ac2"
      },
      "execution_count": 19,
      "outputs": [
        {
          "output_type": "stream",
          "name": "stdout",
          "text": [
            "features have shape: (101446, 19)\n",
            "labels have shape: (101446, 8916)\n"
          ]
        }
      ]
    },
    {
      "cell_type": "code",
      "source": [
        "# GRADED FUNCTION: create_model\n",
        "def create_model(total_words, max_sequence_len):\n",
        "    \"\"\"\n",
        "    Creates a text generator model\n",
        "    \n",
        "    Args:\n",
        "        total_words (int): size of the vocabulary for the Embedding layer input\n",
        "        max_sequence_len (int): length of the input sequences\n",
        "    \n",
        "    Returns:\n",
        "        model (tf.keras Model): the text generator model\n",
        "    \"\"\"\n",
        "    model = Sequential()\n",
        "    ### START CODE HERE\n",
        "    model.add(Embedding(total_words, 100, input_length=max_sequence_len-1))\n",
        "    #model.add(Embedding(total_words, 100, input_length=max_sequence_len-1))\n",
        "    model.add(Bidirectional(LSTM(150, return_sequences = True)))\n",
        "    #model.add(Dropout(0.2))\n",
        "    model.add(LSTM(100))\n",
        "    model.add(Dense(total_words/2, activation='relu'))\n",
        "    model.add(Dense(total_words, activation='softmax'))\n",
        "\n",
        "\n",
        "    # Compile the model\n",
        "    model.compile(loss='categorical_crossentropy',\n",
        "                  optimizer='adam',\n",
        "                  metrics=['accuracy'])\n",
        "    \n",
        "    ### END CODE HERE\n",
        "\n",
        "    return model"
      ],
      "metadata": {
        "id": "KPKZiyoqxhBT"
      },
      "execution_count": 21,
      "outputs": []
    },
    {
      "cell_type": "code",
      "source": [
        "# Get the untrained model\n",
        "model = create_model(total_words, max_sequence_len)\n",
        "\n",
        "# Train the model\n",
        "history = model.fit(features, labels, epochs=50, verbose=1)"
      ],
      "metadata": {
        "colab": {
          "base_uri": "https://localhost:8080/"
        },
        "id": "LaiVOSEnxlOX",
        "outputId": "5c145d73-c811-40a7-f0bf-5dd5bc941aaf"
      },
      "execution_count": 22,
      "outputs": [
        {
          "output_type": "stream",
          "name": "stdout",
          "text": [
            "Epoch 1/50\n",
            "3171/3171 [==============================] - 70s 19ms/step - loss: 6.2842 - accuracy: 0.0639\n",
            "Epoch 2/50\n",
            "3171/3171 [==============================] - 61s 19ms/step - loss: 5.7597 - accuracy: 0.0952\n",
            "Epoch 3/50\n",
            "3171/3171 [==============================] - 61s 19ms/step - loss: 5.4615 - accuracy: 0.1170\n",
            "Epoch 4/50\n",
            "3171/3171 [==============================] - 61s 19ms/step - loss: 5.2410 - accuracy: 0.1291\n",
            "Epoch 5/50\n",
            "3171/3171 [==============================] - 62s 20ms/step - loss: 5.0597 - accuracy: 0.1412\n",
            "Epoch 6/50\n",
            "3171/3171 [==============================] - 63s 20ms/step - loss: 4.9067 - accuracy: 0.1508\n",
            "Epoch 7/50\n",
            "3171/3171 [==============================] - 61s 19ms/step - loss: 4.7608 - accuracy: 0.1599\n",
            "Epoch 8/50\n",
            "3171/3171 [==============================] - 61s 19ms/step - loss: 4.6269 - accuracy: 0.1671\n",
            "Epoch 9/50\n",
            "3171/3171 [==============================] - 62s 19ms/step - loss: 4.5009 - accuracy: 0.1741\n",
            "Epoch 10/50\n",
            "3171/3171 [==============================] - 61s 19ms/step - loss: 4.3768 - accuracy: 0.1815\n",
            "Epoch 11/50\n",
            "3171/3171 [==============================] - 61s 19ms/step - loss: 4.2547 - accuracy: 0.1890\n",
            "Epoch 12/50\n",
            "3171/3171 [==============================] - 61s 19ms/step - loss: 4.1313 - accuracy: 0.1961\n",
            "Epoch 13/50\n",
            "3171/3171 [==============================] - 61s 19ms/step - loss: 4.0066 - accuracy: 0.2054\n",
            "Epoch 14/50\n",
            "3171/3171 [==============================] - 61s 19ms/step - loss: 3.8832 - accuracy: 0.2150\n",
            "Epoch 15/50\n",
            "3171/3171 [==============================] - 61s 19ms/step - loss: 3.7585 - accuracy: 0.2254\n",
            "Epoch 16/50\n",
            "3171/3171 [==============================] - 61s 19ms/step - loss: 3.6368 - accuracy: 0.2376\n",
            "Epoch 17/50\n",
            "3171/3171 [==============================] - 61s 19ms/step - loss: 3.5118 - accuracy: 0.2506\n",
            "Epoch 18/50\n",
            "3171/3171 [==============================] - 61s 19ms/step - loss: 3.3857 - accuracy: 0.2643\n",
            "Epoch 19/50\n",
            "3171/3171 [==============================] - 61s 19ms/step - loss: 3.2631 - accuracy: 0.2791\n",
            "Epoch 20/50\n",
            "3171/3171 [==============================] - 61s 19ms/step - loss: 3.1413 - accuracy: 0.2956\n",
            "Epoch 21/50\n",
            "3171/3171 [==============================] - 61s 19ms/step - loss: 3.0207 - accuracy: 0.3121\n",
            "Epoch 22/50\n",
            "3171/3171 [==============================] - 60s 19ms/step - loss: 2.8973 - accuracy: 0.3320\n",
            "Epoch 23/50\n",
            "3171/3171 [==============================] - 61s 19ms/step - loss: 2.7779 - accuracy: 0.3505\n",
            "Epoch 24/50\n",
            "3171/3171 [==============================] - 61s 19ms/step - loss: 2.6605 - accuracy: 0.3700\n",
            "Epoch 25/50\n",
            "3171/3171 [==============================] - 61s 19ms/step - loss: 2.5414 - accuracy: 0.3924\n",
            "Epoch 26/50\n",
            "3171/3171 [==============================] - 61s 19ms/step - loss: 2.4255 - accuracy: 0.4128\n",
            "Epoch 27/50\n",
            "3171/3171 [==============================] - 60s 19ms/step - loss: 2.3129 - accuracy: 0.4340\n",
            "Epoch 28/50\n",
            "3171/3171 [==============================] - 60s 19ms/step - loss: 2.2001 - accuracy: 0.4563\n",
            "Epoch 29/50\n",
            "3171/3171 [==============================] - 61s 19ms/step - loss: 2.0960 - accuracy: 0.4773\n",
            "Epoch 30/50\n",
            "3171/3171 [==============================] - 60s 19ms/step - loss: 1.9890 - accuracy: 0.5010\n",
            "Epoch 31/50\n",
            "3171/3171 [==============================] - 60s 19ms/step - loss: 1.8901 - accuracy: 0.5206\n",
            "Epoch 32/50\n",
            "3171/3171 [==============================] - 61s 19ms/step - loss: 1.7941 - accuracy: 0.5416\n",
            "Epoch 33/50\n",
            "3171/3171 [==============================] - 61s 19ms/step - loss: 1.7036 - accuracy: 0.5629\n",
            "Epoch 34/50\n",
            "3171/3171 [==============================] - 61s 19ms/step - loss: 1.6137 - accuracy: 0.5806\n",
            "Epoch 35/50\n",
            "3171/3171 [==============================] - 61s 19ms/step - loss: 1.5333 - accuracy: 0.6011\n",
            "Epoch 36/50\n",
            "3171/3171 [==============================] - 61s 19ms/step - loss: 1.4518 - accuracy: 0.6200\n",
            "Epoch 37/50\n",
            "3171/3171 [==============================] - 61s 19ms/step - loss: 1.3757 - accuracy: 0.6378\n",
            "Epoch 38/50\n",
            "3171/3171 [==============================] - 61s 19ms/step - loss: 1.3048 - accuracy: 0.6551\n",
            "Epoch 39/50\n",
            "3171/3171 [==============================] - 61s 19ms/step - loss: 1.2419 - accuracy: 0.6715\n",
            "Epoch 40/50\n",
            "3171/3171 [==============================] - 61s 19ms/step - loss: 1.1840 - accuracy: 0.6846\n",
            "Epoch 41/50\n",
            "3171/3171 [==============================] - 60s 19ms/step - loss: 1.1302 - accuracy: 0.6982\n",
            "Epoch 42/50\n",
            "3171/3171 [==============================] - 60s 19ms/step - loss: 1.0696 - accuracy: 0.7124\n",
            "Epoch 43/50\n",
            "3171/3171 [==============================] - 61s 19ms/step - loss: 1.0263 - accuracy: 0.7231\n",
            "Epoch 44/50\n",
            "3171/3171 [==============================] - 60s 19ms/step - loss: 0.9789 - accuracy: 0.7349\n",
            "Epoch 45/50\n",
            "3171/3171 [==============================] - 61s 19ms/step - loss: 0.9424 - accuracy: 0.7433\n",
            "Epoch 46/50\n",
            "3171/3171 [==============================] - 61s 19ms/step - loss: 0.9005 - accuracy: 0.7546\n",
            "Epoch 47/50\n",
            "3171/3171 [==============================] - 61s 19ms/step - loss: 0.8658 - accuracy: 0.7638\n",
            "Epoch 48/50\n",
            "3171/3171 [==============================] - 61s 19ms/step - loss: 0.8334 - accuracy: 0.7737\n",
            "Epoch 49/50\n",
            "3171/3171 [==============================] - 61s 19ms/step - loss: 0.8074 - accuracy: 0.7797\n",
            "Epoch 50/50\n",
            "3171/3171 [==============================] - 61s 19ms/step - loss: 0.7753 - accuracy: 0.7870\n"
          ]
        }
      ]
    },
    {
      "cell_type": "code",
      "source": [
        "# Take a look at the training curves of your model\n",
        "\n",
        "acc = history.history['accuracy']\n",
        "loss = history.history['loss']\n",
        "\n",
        "epochs = range(len(acc))\n",
        "\n",
        "plt.plot(epochs, acc, 'b', label='Training accuracy')\n",
        "plt.title('Training accuracy')\n",
        "\n",
        "plt.figure()\n",
        "\n",
        "plt.plot(epochs, loss, 'b', label='Training Loss')\n",
        "plt.title('Training loss')\n",
        "plt.legend()\n",
        "\n",
        "plt.show()"
      ],
      "metadata": {
        "colab": {
          "base_uri": "https://localhost:8080/",
          "height": 545
        },
        "id": "dXOe0JjI76kc",
        "outputId": "e15390e3-7764-4297-f993-853119ab1e78"
      },
      "execution_count": 23,
      "outputs": [
        {
          "output_type": "display_data",
          "data": {
            "text/plain": [
              "<Figure size 432x288 with 1 Axes>"
            ],
            "image/png": "[encoded data removed]"
          },
          "metadata": {
            "needs_background": "light"
          }
        },
        {
          "output_type": "display_data",
          "data": {
            "text/plain": [
              "<Figure size 432x288 with 1 Axes>"
            ],
            "image/png": "[encoded data removed]"
          },
          "metadata": {
            "needs_background": "light"
          }
        }
      ]
    },
    {
      "cell_type": "code",
      "source": [
        "def download_history():\n",
        "  import pickle\n",
        "  from google.colab import files\n",
        "\n",
        "  with open('history.pkl', 'wb') as f:\n",
        "    pickle.dump(history.history, f)\n",
        "\n",
        "  files.download('history.pkl')\n",
        "\n",
        "download_history()"
      ],
      "metadata": {
        "colab": {
          "base_uri": "https://localhost:8080/",
          "height": 17
        },
        "id": "bO51ikn_IRmQ",
        "outputId": "006585c8-5f9d-4f64-dd8b-26352940fbb5"
      },
      "execution_count": 24,
      "outputs": [
        {
          "output_type": "display_data",
          "data": {
            "text/plain": [
              "<IPython.core.display.Javascript object>"
            ],
            "application/javascript": [
              "\n",
              "    async function download(id, filename, size) {\n",
              "      if (!google.colab.kernel.accessAllowed) {\n",
              "        return;\n",
              "      }\n",
              "      const div = document.createElement('div');\n",
              "      const label = document.createElement('label');\n",
              "      label.textContent = `Downloading \"${filename}\": `;\n",
              "      div.appendChild(label);\n",
              "      const progress = document.createElement('progress');\n",
              "      progress.max = size;\n",
              "      div.appendChild(progress);\n",
              "      document.body.appendChild(div);\n",
              "\n",
              "      const buffers = [];\n",
              "      let downloaded = 0;\n",
              "\n",
              "      const channel = await google.colab.kernel.comms.open(id);\n",
              "      // Send a message to notify the kernel that we're ready.\n",
              "      channel.send({})\n",
              "\n",
              "      for await (const message of channel.messages) {\n",
              "        // Send a message to notify the kernel that we're ready.\n",
              "        channel.send({})\n",
              "        if (message.buffers) {\n",
              "          for (const buffer of message.buffers) {\n",
              "            buffers.push(buffer);\n",
              "            downloaded += buffer.byteLength;\n",
              "            progress.value = downloaded;\n",
              "          }\n",
              "        }\n",
              "      }\n",
              "      const blob = new Blob(buffers, {type: 'application/binary'});\n",
              "      const a = document.createElement('a');\n",
              "      a.href = window.URL.createObjectURL(blob);\n",
              "      a.download = filename;\n",
              "      div.appendChild(a);\n",
              "      a.click();\n",
              "      div.remove();\n",
              "    }\n",
              "  "
            ]
          },
          "metadata": {}
        },
        {
          "output_type": "display_data",
          "data": {
            "text/plain": [
              "<IPython.core.display.Javascript object>"
            ],
            "application/javascript": [
              "download(\"download_947b4b22-60c7-4d7f-a12f-f01dc082bc80\", \"history.pkl\", 944)"
            ]
          },
          "metadata": {}
        }
      ]
    },
    {
      "cell_type": "code",
      "source": [
        "seed_text = \"\"\"His manner was not effusive. It seldom was but he was glad, \n",
        "I think,to see me. With hardly a word spoken, but with a kindly eye, he waved\n",
        "me to an armchair, threw across his case of cigars\"\"\"\n",
        "next_words = 50\n",
        "  \n",
        "for _ in range(next_words):\n",
        "\t# Convert the text into sequences\n",
        "\ttoken_list = tokenizer.texts_to_sequences([seed_text])[0]\n",
        "\t# Pad the sequences\n",
        "\ttoken_list = pad_sequences([token_list], maxlen=max_sequence_len-1, padding='pre')\n",
        "\t# Get the probabilities of predicting a word\n",
        "\tpredicted = model.predict(token_list, verbose=0)\n",
        "\t# Choose the next word based on the maximum probability\n",
        "\tpredicted = np.argmax(predicted, axis=-1).item()\n",
        "\t# Get the actual word from the word index\n",
        "\toutput_word = tokenizer.index_word[predicted]\n",
        "\t# Append to the current text\n",
        "\tseed_text += \" \" + output_word\n",
        "\n",
        "print(seed_text)"
      ],
      "metadata": {
        "colab": {
          "base_uri": "https://localhost:8080/"
        },
        "id": "FqowL1N5I9lS",
        "outputId": "e5a9ba2c-9d5e-4dfc-977e-f87556f7f1a8"
      },
      "execution_count": 25,
      "outputs": [
        {
          "output_type": "stream",
          "name": "stdout",
          "text": [
            "His manner was not effusive. It seldom was but he was glad, \n",
            "I think,to see me. With hardly a word spoken, but with a kindly eye, he waved\n",
            "me to an armchair, threw across his case of cigars and indicated a little more with whiskers ” he threw himself down upon his face with his lens in his hand and in english ‘remember your promise for an hour which she was not to answer for cruelty’s article what have that they should make him whether it could ever\n"
          ]
        }
      ]
    },
    {
      "cell_type": "code",
      "source": [],
      "metadata": {
        "id": "uJV3927rJ6Qf"
      },
      "execution_count": null,
      "outputs": []
    }
  ]
}